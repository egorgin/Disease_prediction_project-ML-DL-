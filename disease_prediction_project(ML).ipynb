{
 "cells": [
  {
   "cell_type": "code",
   "execution_count": 153,
   "id": "bfd649b3",
   "metadata": {},
   "outputs": [],
   "source": [
    "import pandas as pd\n",
    "import numpy as np\n",
    "import matplotlib.pyplot as plt\n",
    "%matplotlib inline"
   ]
  },
  {
   "cell_type": "code",
   "execution_count": 154,
   "id": "b25f9019",
   "metadata": {},
   "outputs": [
    {
     "data": {
      "text/html": [
       "<div>\n",
       "<style scoped>\n",
       "    .dataframe tbody tr th:only-of-type {\n",
       "        vertical-align: middle;\n",
       "    }\n",
       "\n",
       "    .dataframe tbody tr th {\n",
       "        vertical-align: top;\n",
       "    }\n",
       "\n",
       "    .dataframe thead th {\n",
       "        text-align: right;\n",
       "    }\n",
       "</style>\n",
       "<table border=\"1\" class=\"dataframe\">\n",
       "  <thead>\n",
       "    <tr style=\"text-align: right;\">\n",
       "      <th></th>\n",
       "      <th>itching</th>\n",
       "      <th>skin_rash</th>\n",
       "      <th>nodal_skin_eruptions</th>\n",
       "      <th>continuous_sneezing</th>\n",
       "      <th>shivering</th>\n",
       "      <th>chills</th>\n",
       "      <th>joint_pain</th>\n",
       "      <th>stomach_pain</th>\n",
       "      <th>acidity</th>\n",
       "      <th>ulcers_on_tongue</th>\n",
       "      <th>...</th>\n",
       "      <th>scurring</th>\n",
       "      <th>skin_peeling</th>\n",
       "      <th>silver_like_dusting</th>\n",
       "      <th>small_dents_in_nails</th>\n",
       "      <th>inflammatory_nails</th>\n",
       "      <th>blister</th>\n",
       "      <th>red_sore_around_nose</th>\n",
       "      <th>yellow_crust_ooze</th>\n",
       "      <th>prognosis</th>\n",
       "      <th>Unnamed: 133</th>\n",
       "    </tr>\n",
       "  </thead>\n",
       "  <tbody>\n",
       "    <tr>\n",
       "      <th>0</th>\n",
       "      <td>1</td>\n",
       "      <td>1</td>\n",
       "      <td>1</td>\n",
       "      <td>0</td>\n",
       "      <td>0</td>\n",
       "      <td>0</td>\n",
       "      <td>0</td>\n",
       "      <td>0</td>\n",
       "      <td>0</td>\n",
       "      <td>0</td>\n",
       "      <td>...</td>\n",
       "      <td>0</td>\n",
       "      <td>0</td>\n",
       "      <td>0</td>\n",
       "      <td>0</td>\n",
       "      <td>0</td>\n",
       "      <td>0</td>\n",
       "      <td>0</td>\n",
       "      <td>0</td>\n",
       "      <td>Fungal infection</td>\n",
       "      <td>NaN</td>\n",
       "    </tr>\n",
       "    <tr>\n",
       "      <th>1</th>\n",
       "      <td>0</td>\n",
       "      <td>1</td>\n",
       "      <td>1</td>\n",
       "      <td>0</td>\n",
       "      <td>0</td>\n",
       "      <td>0</td>\n",
       "      <td>0</td>\n",
       "      <td>0</td>\n",
       "      <td>0</td>\n",
       "      <td>0</td>\n",
       "      <td>...</td>\n",
       "      <td>0</td>\n",
       "      <td>0</td>\n",
       "      <td>0</td>\n",
       "      <td>0</td>\n",
       "      <td>0</td>\n",
       "      <td>0</td>\n",
       "      <td>0</td>\n",
       "      <td>0</td>\n",
       "      <td>Fungal infection</td>\n",
       "      <td>NaN</td>\n",
       "    </tr>\n",
       "    <tr>\n",
       "      <th>2</th>\n",
       "      <td>1</td>\n",
       "      <td>0</td>\n",
       "      <td>1</td>\n",
       "      <td>0</td>\n",
       "      <td>0</td>\n",
       "      <td>0</td>\n",
       "      <td>0</td>\n",
       "      <td>0</td>\n",
       "      <td>0</td>\n",
       "      <td>0</td>\n",
       "      <td>...</td>\n",
       "      <td>0</td>\n",
       "      <td>0</td>\n",
       "      <td>0</td>\n",
       "      <td>0</td>\n",
       "      <td>0</td>\n",
       "      <td>0</td>\n",
       "      <td>0</td>\n",
       "      <td>0</td>\n",
       "      <td>Fungal infection</td>\n",
       "      <td>NaN</td>\n",
       "    </tr>\n",
       "    <tr>\n",
       "      <th>3</th>\n",
       "      <td>1</td>\n",
       "      <td>1</td>\n",
       "      <td>0</td>\n",
       "      <td>0</td>\n",
       "      <td>0</td>\n",
       "      <td>0</td>\n",
       "      <td>0</td>\n",
       "      <td>0</td>\n",
       "      <td>0</td>\n",
       "      <td>0</td>\n",
       "      <td>...</td>\n",
       "      <td>0</td>\n",
       "      <td>0</td>\n",
       "      <td>0</td>\n",
       "      <td>0</td>\n",
       "      <td>0</td>\n",
       "      <td>0</td>\n",
       "      <td>0</td>\n",
       "      <td>0</td>\n",
       "      <td>Fungal infection</td>\n",
       "      <td>NaN</td>\n",
       "    </tr>\n",
       "    <tr>\n",
       "      <th>4</th>\n",
       "      <td>1</td>\n",
       "      <td>1</td>\n",
       "      <td>1</td>\n",
       "      <td>0</td>\n",
       "      <td>0</td>\n",
       "      <td>0</td>\n",
       "      <td>0</td>\n",
       "      <td>0</td>\n",
       "      <td>0</td>\n",
       "      <td>0</td>\n",
       "      <td>...</td>\n",
       "      <td>0</td>\n",
       "      <td>0</td>\n",
       "      <td>0</td>\n",
       "      <td>0</td>\n",
       "      <td>0</td>\n",
       "      <td>0</td>\n",
       "      <td>0</td>\n",
       "      <td>0</td>\n",
       "      <td>Fungal infection</td>\n",
       "      <td>NaN</td>\n",
       "    </tr>\n",
       "  </tbody>\n",
       "</table>\n",
       "<p>5 rows × 134 columns</p>\n",
       "</div>"
      ],
      "text/plain": [
       "   itching  skin_rash  nodal_skin_eruptions  continuous_sneezing  shivering  \\\n",
       "0        1          1                     1                    0          0   \n",
       "1        0          1                     1                    0          0   \n",
       "2        1          0                     1                    0          0   \n",
       "3        1          1                     0                    0          0   \n",
       "4        1          1                     1                    0          0   \n",
       "\n",
       "   chills  joint_pain  stomach_pain  acidity  ulcers_on_tongue  ...  scurring  \\\n",
       "0       0           0             0        0                 0  ...         0   \n",
       "1       0           0             0        0                 0  ...         0   \n",
       "2       0           0             0        0                 0  ...         0   \n",
       "3       0           0             0        0                 0  ...         0   \n",
       "4       0           0             0        0                 0  ...         0   \n",
       "\n",
       "   skin_peeling  silver_like_dusting  small_dents_in_nails  \\\n",
       "0             0                    0                     0   \n",
       "1             0                    0                     0   \n",
       "2             0                    0                     0   \n",
       "3             0                    0                     0   \n",
       "4             0                    0                     0   \n",
       "\n",
       "   inflammatory_nails  blister  red_sore_around_nose  yellow_crust_ooze  \\\n",
       "0                   0        0                     0                  0   \n",
       "1                   0        0                     0                  0   \n",
       "2                   0        0                     0                  0   \n",
       "3                   0        0                     0                  0   \n",
       "4                   0        0                     0                  0   \n",
       "\n",
       "          prognosis  Unnamed: 133  \n",
       "0  Fungal infection           NaN  \n",
       "1  Fungal infection           NaN  \n",
       "2  Fungal infection           NaN  \n",
       "3  Fungal infection           NaN  \n",
       "4  Fungal infection           NaN  \n",
       "\n",
       "[5 rows x 134 columns]"
      ]
     },
     "execution_count": 154,
     "metadata": {},
     "output_type": "execute_result"
    }
   ],
   "source": [
    "df_train=pd.read_csv(r'C:\\Users\\ella.gorgin\\Dropbox\\Data_Analytics\\Data_sets\\Disease_Prediction\\Training.csv')\n",
    "df_train.head()"
   ]
  },
  {
   "cell_type": "code",
   "execution_count": 155,
   "id": "88dbacd6",
   "metadata": {},
   "outputs": [
    {
     "data": {
      "text/plain": [
       "(4920, 134)"
      ]
     },
     "execution_count": 155,
     "metadata": {},
     "output_type": "execute_result"
    }
   ],
   "source": [
    "df_train.shape"
   ]
  },
  {
   "cell_type": "code",
   "execution_count": 156,
   "id": "5f229f49",
   "metadata": {},
   "outputs": [],
   "source": [
    "df_train=df_train.drop(['Unnamed: 133'],axis='columns')"
   ]
  },
  {
   "cell_type": "code",
   "execution_count": 157,
   "id": "82f8de87",
   "metadata": {},
   "outputs": [
    {
     "data": {
      "text/plain": [
       "(4920, 133)"
      ]
     },
     "execution_count": 157,
     "metadata": {},
     "output_type": "execute_result"
    }
   ],
   "source": [
    "df_train.shape"
   ]
  },
  {
   "cell_type": "code",
   "execution_count": 158,
   "id": "eac89974",
   "metadata": {},
   "outputs": [
    {
     "data": {
      "text/html": [
       "<div>\n",
       "<style scoped>\n",
       "    .dataframe tbody tr th:only-of-type {\n",
       "        vertical-align: middle;\n",
       "    }\n",
       "\n",
       "    .dataframe tbody tr th {\n",
       "        vertical-align: top;\n",
       "    }\n",
       "\n",
       "    .dataframe thead th {\n",
       "        text-align: right;\n",
       "    }\n",
       "</style>\n",
       "<table border=\"1\" class=\"dataframe\">\n",
       "  <thead>\n",
       "    <tr style=\"text-align: right;\">\n",
       "      <th></th>\n",
       "      <th>itching</th>\n",
       "      <th>skin_rash</th>\n",
       "      <th>nodal_skin_eruptions</th>\n",
       "      <th>continuous_sneezing</th>\n",
       "      <th>shivering</th>\n",
       "      <th>chills</th>\n",
       "      <th>joint_pain</th>\n",
       "      <th>stomach_pain</th>\n",
       "      <th>acidity</th>\n",
       "      <th>ulcers_on_tongue</th>\n",
       "      <th>...</th>\n",
       "      <th>blackheads</th>\n",
       "      <th>scurring</th>\n",
       "      <th>skin_peeling</th>\n",
       "      <th>silver_like_dusting</th>\n",
       "      <th>small_dents_in_nails</th>\n",
       "      <th>inflammatory_nails</th>\n",
       "      <th>blister</th>\n",
       "      <th>red_sore_around_nose</th>\n",
       "      <th>yellow_crust_ooze</th>\n",
       "      <th>prognosis</th>\n",
       "    </tr>\n",
       "  </thead>\n",
       "  <tbody>\n",
       "    <tr>\n",
       "      <th>0</th>\n",
       "      <td>1</td>\n",
       "      <td>1</td>\n",
       "      <td>1</td>\n",
       "      <td>0</td>\n",
       "      <td>0</td>\n",
       "      <td>0</td>\n",
       "      <td>0</td>\n",
       "      <td>0</td>\n",
       "      <td>0</td>\n",
       "      <td>0</td>\n",
       "      <td>...</td>\n",
       "      <td>0</td>\n",
       "      <td>0</td>\n",
       "      <td>0</td>\n",
       "      <td>0</td>\n",
       "      <td>0</td>\n",
       "      <td>0</td>\n",
       "      <td>0</td>\n",
       "      <td>0</td>\n",
       "      <td>0</td>\n",
       "      <td>Fungal infection</td>\n",
       "    </tr>\n",
       "    <tr>\n",
       "      <th>1</th>\n",
       "      <td>0</td>\n",
       "      <td>0</td>\n",
       "      <td>0</td>\n",
       "      <td>1</td>\n",
       "      <td>1</td>\n",
       "      <td>1</td>\n",
       "      <td>0</td>\n",
       "      <td>0</td>\n",
       "      <td>0</td>\n",
       "      <td>0</td>\n",
       "      <td>...</td>\n",
       "      <td>0</td>\n",
       "      <td>0</td>\n",
       "      <td>0</td>\n",
       "      <td>0</td>\n",
       "      <td>0</td>\n",
       "      <td>0</td>\n",
       "      <td>0</td>\n",
       "      <td>0</td>\n",
       "      <td>0</td>\n",
       "      <td>Allergy</td>\n",
       "    </tr>\n",
       "    <tr>\n",
       "      <th>2</th>\n",
       "      <td>0</td>\n",
       "      <td>0</td>\n",
       "      <td>0</td>\n",
       "      <td>0</td>\n",
       "      <td>0</td>\n",
       "      <td>0</td>\n",
       "      <td>0</td>\n",
       "      <td>1</td>\n",
       "      <td>1</td>\n",
       "      <td>1</td>\n",
       "      <td>...</td>\n",
       "      <td>0</td>\n",
       "      <td>0</td>\n",
       "      <td>0</td>\n",
       "      <td>0</td>\n",
       "      <td>0</td>\n",
       "      <td>0</td>\n",
       "      <td>0</td>\n",
       "      <td>0</td>\n",
       "      <td>0</td>\n",
       "      <td>GERD</td>\n",
       "    </tr>\n",
       "    <tr>\n",
       "      <th>3</th>\n",
       "      <td>1</td>\n",
       "      <td>0</td>\n",
       "      <td>0</td>\n",
       "      <td>0</td>\n",
       "      <td>0</td>\n",
       "      <td>0</td>\n",
       "      <td>0</td>\n",
       "      <td>0</td>\n",
       "      <td>0</td>\n",
       "      <td>0</td>\n",
       "      <td>...</td>\n",
       "      <td>0</td>\n",
       "      <td>0</td>\n",
       "      <td>0</td>\n",
       "      <td>0</td>\n",
       "      <td>0</td>\n",
       "      <td>0</td>\n",
       "      <td>0</td>\n",
       "      <td>0</td>\n",
       "      <td>0</td>\n",
       "      <td>Chronic cholestasis</td>\n",
       "    </tr>\n",
       "    <tr>\n",
       "      <th>4</th>\n",
       "      <td>1</td>\n",
       "      <td>1</td>\n",
       "      <td>0</td>\n",
       "      <td>0</td>\n",
       "      <td>0</td>\n",
       "      <td>0</td>\n",
       "      <td>0</td>\n",
       "      <td>1</td>\n",
       "      <td>0</td>\n",
       "      <td>0</td>\n",
       "      <td>...</td>\n",
       "      <td>0</td>\n",
       "      <td>0</td>\n",
       "      <td>0</td>\n",
       "      <td>0</td>\n",
       "      <td>0</td>\n",
       "      <td>0</td>\n",
       "      <td>0</td>\n",
       "      <td>0</td>\n",
       "      <td>0</td>\n",
       "      <td>Drug Reaction</td>\n",
       "    </tr>\n",
       "  </tbody>\n",
       "</table>\n",
       "<p>5 rows × 133 columns</p>\n",
       "</div>"
      ],
      "text/plain": [
       "   itching  skin_rash  nodal_skin_eruptions  continuous_sneezing  shivering  \\\n",
       "0        1          1                     1                    0          0   \n",
       "1        0          0                     0                    1          1   \n",
       "2        0          0                     0                    0          0   \n",
       "3        1          0                     0                    0          0   \n",
       "4        1          1                     0                    0          0   \n",
       "\n",
       "   chills  joint_pain  stomach_pain  acidity  ulcers_on_tongue  ...  \\\n",
       "0       0           0             0        0                 0  ...   \n",
       "1       1           0             0        0                 0  ...   \n",
       "2       0           0             1        1                 1  ...   \n",
       "3       0           0             0        0                 0  ...   \n",
       "4       0           0             1        0                 0  ...   \n",
       "\n",
       "   blackheads  scurring  skin_peeling  silver_like_dusting  \\\n",
       "0           0         0             0                    0   \n",
       "1           0         0             0                    0   \n",
       "2           0         0             0                    0   \n",
       "3           0         0             0                    0   \n",
       "4           0         0             0                    0   \n",
       "\n",
       "   small_dents_in_nails  inflammatory_nails  blister  red_sore_around_nose  \\\n",
       "0                     0                   0        0                     0   \n",
       "1                     0                   0        0                     0   \n",
       "2                     0                   0        0                     0   \n",
       "3                     0                   0        0                     0   \n",
       "4                     0                   0        0                     0   \n",
       "\n",
       "   yellow_crust_ooze            prognosis  \n",
       "0                  0     Fungal infection  \n",
       "1                  0              Allergy  \n",
       "2                  0                 GERD  \n",
       "3                  0  Chronic cholestasis  \n",
       "4                  0        Drug Reaction  \n",
       "\n",
       "[5 rows x 133 columns]"
      ]
     },
     "execution_count": 158,
     "metadata": {},
     "output_type": "execute_result"
    }
   ],
   "source": [
    "df_test=pd.read_csv(r'C:\\Users\\ella.gorgin\\Dropbox\\Data_Analytics\\Data_sets\\Disease_Prediction\\Testing.csv')\n",
    "df_test.head()"
   ]
  },
  {
   "cell_type": "code",
   "execution_count": 159,
   "id": "27867bb5",
   "metadata": {},
   "outputs": [
    {
     "data": {
      "text/plain": [
       "(42, 133)"
      ]
     },
     "execution_count": 159,
     "metadata": {},
     "output_type": "execute_result"
    }
   ],
   "source": [
    "df_test.shape"
   ]
  },
  {
   "cell_type": "code",
   "execution_count": 160,
   "id": "602b4fcf",
   "metadata": {},
   "outputs": [
    {
     "data": {
      "text/plain": [
       "(4920, 133)"
      ]
     },
     "execution_count": 160,
     "metadata": {},
     "output_type": "execute_result"
    }
   ],
   "source": [
    "nRow,nColumn = df_train.shape\n",
    "nRow,nColumn"
   ]
  },
  {
   "cell_type": "code",
   "execution_count": 161,
   "id": "a036c74c",
   "metadata": {},
   "outputs": [
    {
     "data": {
      "text/plain": [
       "itching                 0\n",
       "skin_rash               0\n",
       "nodal_skin_eruptions    0\n",
       "continuous_sneezing     0\n",
       "shivering               0\n",
       "                       ..\n",
       "inflammatory_nails      0\n",
       "blister                 0\n",
       "red_sore_around_nose    0\n",
       "yellow_crust_ooze       0\n",
       "prognosis               0\n",
       "Length: 133, dtype: int64"
      ]
     },
     "execution_count": 161,
     "metadata": {},
     "output_type": "execute_result"
    }
   ],
   "source": [
    "df_train.isnull().sum()"
   ]
  },
  {
   "cell_type": "code",
   "execution_count": 162,
   "id": "74e2245b",
   "metadata": {},
   "outputs": [
    {
     "data": {
      "text/plain": [
       "Fungal infection                           120\n",
       "Hepatitis C                                120\n",
       "Hepatitis E                                120\n",
       "Alcoholic hepatitis                        120\n",
       "Tuberculosis                               120\n",
       "Common Cold                                120\n",
       "Pneumonia                                  120\n",
       "Dimorphic hemmorhoids(piles)               120\n",
       "Heart attack                               120\n",
       "Varicose veins                             120\n",
       "Hypothyroidism                             120\n",
       "Hyperthyroidism                            120\n",
       "Hypoglycemia                               120\n",
       "Osteoarthristis                            120\n",
       "Arthritis                                  120\n",
       "(vertigo) Paroymsal  Positional Vertigo    120\n",
       "Acne                                       120\n",
       "Urinary tract infection                    120\n",
       "Psoriasis                                  120\n",
       "Hepatitis D                                120\n",
       "Hepatitis B                                120\n",
       "Allergy                                    120\n",
       "hepatitis A                                120\n",
       "GERD                                       120\n",
       "Chronic cholestasis                        120\n",
       "Drug Reaction                              120\n",
       "Peptic ulcer diseae                        120\n",
       "AIDS                                       120\n",
       "Diabetes                                   120\n",
       "Gastroenteritis                            120\n",
       "Bronchial Asthma                           120\n",
       "Hypertension                               120\n",
       "Migraine                                   120\n",
       "Cervical spondylosis                       120\n",
       "Paralysis (brain hemorrhage)               120\n",
       "Jaundice                                   120\n",
       "Malaria                                    120\n",
       "Chicken pox                                120\n",
       "Dengue                                     120\n",
       "Typhoid                                    120\n",
       "Impetigo                                   120\n",
       "Name: prognosis, dtype: int64"
      ]
     },
     "execution_count": 162,
     "metadata": {},
     "output_type": "execute_result"
    }
   ],
   "source": [
    "df_train['prognosis'].value_counts()"
   ]
  },
  {
   "cell_type": "code",
   "execution_count": 163,
   "id": "25855e75",
   "metadata": {
    "scrolled": true
   },
   "outputs": [
    {
     "data": {
      "text/plain": [
       "41"
      ]
     },
     "execution_count": 163,
     "metadata": {},
     "output_type": "execute_result"
    }
   ],
   "source": [
    "len(df_train.groupby('prognosis')['prognosis'].aggregate('count'))"
   ]
  },
  {
   "cell_type": "code",
   "execution_count": 164,
   "id": "71e4bd51",
   "metadata": {},
   "outputs": [
    {
     "data": {
      "text/plain": [
       "'(vertigo) Paroymsal  Positional Vertigo'"
      ]
     },
     "execution_count": 164,
     "metadata": {},
     "output_type": "execute_result"
    }
   ],
   "source": [
    "df_train['prognosis'].min()"
   ]
  },
  {
   "cell_type": "code",
   "execution_count": 165,
   "id": "ad87082e",
   "metadata": {},
   "outputs": [
    {
     "data": {
      "text/plain": [
       "'hepatitis A'"
      ]
     },
     "execution_count": 165,
     "metadata": {},
     "output_type": "execute_result"
    }
   ],
   "source": [
    "df_train['prognosis'].max()"
   ]
  },
  {
   "cell_type": "code",
   "execution_count": 166,
   "id": "54b91567",
   "metadata": {},
   "outputs": [],
   "source": [
    "#import pandas_profiling\n",
    "#from pandas_profiling import ProfileReport\n",
    "#ProfileReport(df_tr)"
   ]
  },
  {
   "cell_type": "code",
   "execution_count": 167,
   "id": "c9a3cd93",
   "metadata": {},
   "outputs": [
    {
     "data": {
      "text/plain": [
       "itching\n",
       "0    4242\n",
       "1     678\n",
       "Name: itching, dtype: int64"
      ]
     },
     "execution_count": 167,
     "metadata": {},
     "output_type": "execute_result"
    }
   ],
   "source": [
    "df_train.groupby('itching')['itching'].aggregate('count')"
   ]
  },
  {
   "cell_type": "code",
   "execution_count": 168,
   "id": "a9c3c7cc",
   "metadata": {},
   "outputs": [
    {
     "name": "stdout",
     "output_type": "stream",
     "text": [
      "itching\n",
      "0    4242\n",
      "1     678\n",
      "Name: itching, dtype: int64\n",
      "skin_rash\n",
      "0    4134\n",
      "1     786\n",
      "Name: skin_rash, dtype: int64\n",
      "nodal_skin_eruptions\n",
      "0    4812\n",
      "1     108\n",
      "Name: nodal_skin_eruptions, dtype: int64\n",
      "continuous_sneezing\n",
      "0    4698\n",
      "1     222\n",
      "Name: continuous_sneezing, dtype: int64\n",
      "shivering\n",
      "0    4812\n",
      "1     108\n",
      "Name: shivering, dtype: int64\n",
      "chills\n",
      "0    4122\n",
      "1     798\n",
      "Name: chills, dtype: int64\n",
      "joint_pain\n",
      "0    4236\n",
      "1     684\n",
      "Name: joint_pain, dtype: int64\n",
      "stomach_pain\n",
      "0    4698\n",
      "1     222\n",
      "Name: stomach_pain, dtype: int64\n",
      "acidity\n",
      "0    4698\n",
      "1     222\n",
      "Name: acidity, dtype: int64\n",
      "ulcers_on_tongue\n",
      "0    4812\n",
      "1     108\n",
      "Name: ulcers_on_tongue, dtype: int64\n",
      "muscle_wasting\n",
      "0    4812\n",
      "1     108\n",
      "Name: muscle_wasting, dtype: int64\n",
      "vomiting\n",
      "0    3006\n",
      "1    1914\n",
      "Name: vomiting, dtype: int64\n",
      "burning_micturition\n",
      "0    4704\n",
      "1     216\n",
      "Name: burning_micturition, dtype: int64\n",
      "spotting_ urination\n",
      "0    4812\n",
      "1     108\n",
      "Name: spotting_ urination, dtype: int64\n",
      "fatigue\n",
      "0    2988\n",
      "1    1932\n",
      "Name: fatigue, dtype: int64\n",
      "weight_gain\n",
      "0    4806\n",
      "1     114\n",
      "Name: weight_gain, dtype: int64\n",
      "anxiety\n",
      "0    4806\n",
      "1     114\n",
      "Name: anxiety, dtype: int64\n",
      "cold_hands_and_feets\n",
      "0    4806\n",
      "1     114\n",
      "Name: cold_hands_and_feets, dtype: int64\n",
      "mood_swings\n",
      "0    4692\n",
      "1     228\n",
      "Name: mood_swings, dtype: int64\n",
      "weight_loss\n",
      "0    4464\n",
      "1     456\n",
      "Name: weight_loss, dtype: int64\n",
      "restlessness\n",
      "0    4692\n",
      "1     228\n",
      "Name: restlessness, dtype: int64\n",
      "lethargy\n",
      "0    4464\n",
      "1     456\n",
      "Name: lethargy, dtype: int64\n",
      "patches_in_throat\n",
      "0    4812\n",
      "1     108\n",
      "Name: patches_in_throat, dtype: int64\n",
      "irregular_sugar_level\n",
      "0    4806\n",
      "1     114\n",
      "Name: irregular_sugar_level, dtype: int64\n",
      "cough\n",
      "0    4356\n",
      "1     564\n",
      "Name: cough, dtype: int64\n",
      "high_fever\n",
      "0    3558\n",
      "1    1362\n",
      "Name: high_fever, dtype: int64\n",
      "sunken_eyes\n",
      "0    4812\n",
      "1     108\n",
      "Name: sunken_eyes, dtype: int64\n",
      "breathlessness\n",
      "0    4470\n",
      "1     450\n",
      "Name: breathlessness, dtype: int64\n",
      "sweating\n",
      "0    4242\n",
      "1     678\n",
      "Name: sweating, dtype: int64\n",
      "dehydration\n",
      "0    4812\n",
      "1     108\n",
      "Name: dehydration, dtype: int64\n",
      "indigestion\n",
      "0    4698\n",
      "1     222\n",
      "Name: indigestion, dtype: int64\n",
      "headache\n",
      "0    3786\n",
      "1    1134\n",
      "Name: headache, dtype: int64\n",
      "yellowish_skin\n",
      "0    4008\n",
      "1     912\n",
      "Name: yellowish_skin, dtype: int64\n",
      "dark_urine\n",
      "0    4350\n",
      "1     570\n",
      "Name: dark_urine, dtype: int64\n",
      "nausea\n",
      "0    3774\n",
      "1    1146\n",
      "Name: nausea, dtype: int64\n",
      "loss_of_appetite\n",
      "0    3768\n",
      "1    1152\n",
      "Name: loss_of_appetite, dtype: int64\n",
      "pain_behind_the_eyes\n",
      "0    4800\n",
      "1     120\n",
      "Name: pain_behind_the_eyes, dtype: int64\n",
      "back_pain\n",
      "0    4692\n",
      "1     228\n",
      "Name: back_pain, dtype: int64\n",
      "constipation\n",
      "0    4692\n",
      "1     228\n",
      "Name: constipation, dtype: int64\n",
      "abdominal_pain\n",
      "0    3888\n",
      "1    1032\n",
      "Name: abdominal_pain, dtype: int64\n",
      "diarrhoea\n",
      "0    4356\n",
      "1     564\n",
      "Name: diarrhoea, dtype: int64\n",
      "mild_fever\n",
      "0    4566\n",
      "1     354\n",
      "Name: mild_fever, dtype: int64\n",
      "yellow_urine\n",
      "0    4806\n",
      "1     114\n",
      "Name: yellow_urine, dtype: int64\n",
      "yellowing_of_eyes\n",
      "0    4104\n",
      "1     816\n",
      "Name: yellowing_of_eyes, dtype: int64\n",
      "acute_liver_failure\n",
      "0    4806\n",
      "1     114\n",
      "Name: acute_liver_failure, dtype: int64\n",
      "fluid_overload\n",
      "0    4920\n",
      "Name: fluid_overload, dtype: int64\n",
      "swelling_of_stomach\n",
      "0    4806\n",
      "1     114\n",
      "Name: swelling_of_stomach, dtype: int64\n",
      "swelled_lymph_nodes\n",
      "0    4572\n",
      "1     348\n",
      "Name: swelled_lymph_nodes, dtype: int64\n",
      "malaise\n",
      "0    4218\n",
      "1     702\n",
      "Name: malaise, dtype: int64\n",
      "blurred_and_distorted_vision\n",
      "0    4578\n",
      "1     342\n",
      "Name: blurred_and_distorted_vision, dtype: int64\n",
      "phlegm\n",
      "0    4566\n",
      "1     354\n",
      "Name: phlegm, dtype: int64\n",
      "throat_irritation\n",
      "0    4800\n",
      "1     120\n",
      "Name: throat_irritation, dtype: int64\n",
      "redness_of_eyes\n",
      "0    4800\n",
      "1     120\n",
      "Name: redness_of_eyes, dtype: int64\n",
      "sinus_pressure\n",
      "0    4800\n",
      "1     120\n",
      "Name: sinus_pressure, dtype: int64\n",
      "runny_nose\n",
      "0    4800\n",
      "1     120\n",
      "Name: runny_nose, dtype: int64\n",
      "congestion\n",
      "0    4800\n",
      "1     120\n",
      "Name: congestion, dtype: int64\n",
      "chest_pain\n",
      "0    4224\n",
      "1     696\n",
      "Name: chest_pain, dtype: int64\n",
      "weakness_in_limbs\n",
      "0    4812\n",
      "1     108\n",
      "Name: weakness_in_limbs, dtype: int64\n",
      "fast_heart_rate\n",
      "0    4686\n",
      "1     234\n",
      "Name: fast_heart_rate, dtype: int64\n",
      "pain_during_bowel_movements\n",
      "0    4806\n",
      "1     114\n",
      "Name: pain_during_bowel_movements, dtype: int64\n",
      "pain_in_anal_region\n",
      "0    4806\n",
      "1     114\n",
      "Name: pain_in_anal_region, dtype: int64\n",
      "bloody_stool\n",
      "0    4806\n",
      "1     114\n",
      "Name: bloody_stool, dtype: int64\n",
      "irritation_in_anus\n",
      "0    4806\n",
      "1     114\n",
      "Name: irritation_in_anus, dtype: int64\n",
      "neck_pain\n",
      "0    4692\n",
      "1     228\n",
      "Name: neck_pain, dtype: int64\n",
      "dizziness\n",
      "0    4584\n",
      "1     336\n",
      "Name: dizziness, dtype: int64\n",
      "cramps\n",
      "0    4806\n",
      "1     114\n",
      "Name: cramps, dtype: int64\n",
      "bruising\n",
      "0    4806\n",
      "1     114\n",
      "Name: bruising, dtype: int64\n",
      "obesity\n",
      "0    4692\n",
      "1     228\n",
      "Name: obesity, dtype: int64\n",
      "swollen_legs\n",
      "0    4806\n",
      "1     114\n",
      "Name: swollen_legs, dtype: int64\n",
      "swollen_blood_vessels\n",
      "0    4812\n",
      "1     108\n",
      "Name: swollen_blood_vessels, dtype: int64\n",
      "puffy_face_and_eyes\n",
      "0    4806\n",
      "1     114\n",
      "Name: puffy_face_and_eyes, dtype: int64\n",
      "enlarged_thyroid\n",
      "0    4800\n",
      "1     120\n",
      "Name: enlarged_thyroid, dtype: int64\n",
      "brittle_nails\n",
      "0    4800\n",
      "1     120\n",
      "Name: brittle_nails, dtype: int64\n",
      "swollen_extremeties\n",
      "0    4800\n",
      "1     120\n",
      "Name: swollen_extremeties, dtype: int64\n",
      "excessive_hunger\n",
      "0    4458\n",
      "1     462\n",
      "Name: excessive_hunger, dtype: int64\n",
      "extra_marital_contacts\n",
      "0    4812\n",
      "1     108\n",
      "Name: extra_marital_contacts, dtype: int64\n",
      "drying_and_tingling_lips\n",
      "0    4806\n",
      "1     114\n",
      "Name: drying_and_tingling_lips, dtype: int64\n",
      "slurred_speech\n",
      "0    4800\n",
      "1     120\n",
      "Name: slurred_speech, dtype: int64\n",
      "knee_pain\n",
      "0    4806\n",
      "1     114\n",
      "Name: knee_pain, dtype: int64\n",
      "hip_joint_pain\n",
      "0    4806\n",
      "1     114\n",
      "Name: hip_joint_pain, dtype: int64\n",
      "muscle_weakness\n",
      "0    4686\n",
      "1     234\n",
      "Name: muscle_weakness, dtype: int64\n",
      "stiff_neck\n",
      "0    4692\n",
      "1     228\n",
      "Name: stiff_neck, dtype: int64\n",
      "swelling_joints\n",
      "0    4692\n",
      "1     228\n",
      "Name: swelling_joints, dtype: int64\n",
      "movement_stiffness\n",
      "0    4806\n",
      "1     114\n",
      "Name: movement_stiffness, dtype: int64\n",
      "spinning_movements\n",
      "0    4812\n",
      "1     108\n",
      "Name: spinning_movements, dtype: int64\n",
      "loss_of_balance\n",
      "0    4578\n",
      "1     342\n",
      "Name: loss_of_balance, dtype: int64\n",
      "unsteadiness\n",
      "0    4806\n",
      "1     114\n",
      "Name: unsteadiness, dtype: int64\n",
      "weakness_of_one_body_side\n",
      "0    4812\n",
      "1     108\n",
      "Name: weakness_of_one_body_side, dtype: int64\n",
      "loss_of_smell\n",
      "0    4800\n",
      "1     120\n",
      "Name: loss_of_smell, dtype: int64\n",
      "bladder_discomfort\n",
      "0    4806\n",
      "1     114\n",
      "Name: bladder_discomfort, dtype: int64\n",
      "foul_smell_of urine\n",
      "0    4818\n",
      "1     102\n",
      "Name: foul_smell_of urine, dtype: int64\n",
      "continuous_feel_of_urine\n",
      "0    4806\n",
      "1     114\n",
      "Name: continuous_feel_of_urine, dtype: int64\n",
      "passage_of_gases\n",
      "0    4806\n",
      "1     114\n",
      "Name: passage_of_gases, dtype: int64\n",
      "internal_itching\n",
      "0    4806\n",
      "1     114\n",
      "Name: internal_itching, dtype: int64\n",
      "toxic_look_(typhos)\n",
      "0    4806\n",
      "1     114\n",
      "Name: toxic_look_(typhos), dtype: int64\n",
      "depression\n",
      "0    4686\n",
      "1     234\n",
      "Name: depression, dtype: int64\n",
      "irritability\n",
      "0    4446\n",
      "1     474\n",
      "Name: irritability, dtype: int64\n",
      "muscle_pain\n",
      "0    4446\n",
      "1     474\n",
      "Name: muscle_pain, dtype: int64\n",
      "altered_sensorium\n",
      "0    4806\n",
      "1     114\n",
      "Name: altered_sensorium, dtype: int64\n",
      "red_spots_over_body\n",
      "0    4686\n",
      "1     234\n",
      "Name: red_spots_over_body, dtype: int64\n",
      "belly_pain\n",
      "0    4806\n",
      "1     114\n",
      "Name: belly_pain, dtype: int64\n",
      "abnormal_menstruation\n",
      "0    4680\n",
      "1     240\n",
      "Name: abnormal_menstruation, dtype: int64\n",
      "dischromic _patches\n",
      "0    4812\n",
      "1     108\n",
      "Name: dischromic _patches, dtype: int64\n",
      "watering_from_eyes\n",
      "0    4812\n",
      "1     108\n",
      "Name: watering_from_eyes, dtype: int64\n",
      "increased_appetite\n",
      "0    4800\n",
      "1     120\n",
      "Name: increased_appetite, dtype: int64\n",
      "polyuria\n",
      "0    4800\n",
      "1     120\n",
      "Name: polyuria, dtype: int64\n",
      "family_history\n",
      "0    4692\n",
      "1     228\n",
      "Name: family_history, dtype: int64\n",
      "mucoid_sputum\n",
      "0    4806\n",
      "1     114\n",
      "Name: mucoid_sputum, dtype: int64\n",
      "rusty_sputum\n",
      "0    4800\n",
      "1     120\n",
      "Name: rusty_sputum, dtype: int64\n",
      "lack_of_concentration\n",
      "0    4806\n",
      "1     114\n",
      "Name: lack_of_concentration, dtype: int64\n",
      "visual_disturbances\n",
      "0    4806\n",
      "1     114\n",
      "Name: visual_disturbances, dtype: int64\n",
      "receiving_blood_transfusion\n",
      "0    4800\n",
      "1     120\n",
      "Name: receiving_blood_transfusion, dtype: int64\n",
      "receiving_unsterile_injections\n",
      "0    4800\n",
      "1     120\n",
      "Name: receiving_unsterile_injections, dtype: int64\n",
      "coma\n",
      "0    4800\n",
      "1     120\n",
      "Name: coma, dtype: int64\n",
      "stomach_bleeding\n",
      "0    4800\n",
      "1     120\n",
      "Name: stomach_bleeding, dtype: int64\n",
      "distention_of_abdomen\n",
      "0    4806\n",
      "1     114\n",
      "Name: distention_of_abdomen, dtype: int64\n",
      "history_of_alcohol_consumption\n",
      "0    4806\n",
      "1     114\n",
      "Name: history_of_alcohol_consumption, dtype: int64\n",
      "fluid_overload.1\n",
      "0    4806\n",
      "1     114\n",
      "Name: fluid_overload.1, dtype: int64\n",
      "blood_in_sputum\n",
      "0    4800\n",
      "1     120\n",
      "Name: blood_in_sputum, dtype: int64\n",
      "prominent_veins_on_calf\n",
      "0    4806\n",
      "1     114\n",
      "Name: prominent_veins_on_calf, dtype: int64\n",
      "palpitations\n",
      "0    4800\n",
      "1     120\n",
      "Name: palpitations, dtype: int64\n",
      "painful_walking\n",
      "0    4692\n",
      "1     228\n",
      "Name: painful_walking, dtype: int64\n",
      "pus_filled_pimples\n",
      "0    4812\n",
      "1     108\n",
      "Name: pus_filled_pimples, dtype: int64\n",
      "blackheads\n",
      "0    4812\n",
      "1     108\n",
      "Name: blackheads, dtype: int64\n",
      "scurring\n",
      "0    4812\n",
      "1     108\n",
      "Name: scurring, dtype: int64\n",
      "skin_peeling\n",
      "0    4806\n",
      "1     114\n",
      "Name: skin_peeling, dtype: int64\n",
      "silver_like_dusting\n",
      "0    4806\n",
      "1     114\n",
      "Name: silver_like_dusting, dtype: int64\n",
      "small_dents_in_nails\n",
      "0    4806\n",
      "1     114\n",
      "Name: small_dents_in_nails, dtype: int64\n",
      "inflammatory_nails\n",
      "0    4806\n",
      "1     114\n",
      "Name: inflammatory_nails, dtype: int64\n",
      "blister\n",
      "0    4806\n",
      "1     114\n",
      "Name: blister, dtype: int64\n",
      "red_sore_around_nose\n",
      "0    4806\n",
      "1     114\n",
      "Name: red_sore_around_nose, dtype: int64\n",
      "yellow_crust_ooze\n",
      "0    4806\n",
      "1     114\n",
      "Name: yellow_crust_ooze, dtype: int64\n",
      "prognosis\n",
      "(vertigo) Paroymsal  Positional Vertigo    120\n",
      "AIDS                                       120\n",
      "Acne                                       120\n",
      "Alcoholic hepatitis                        120\n",
      "Allergy                                    120\n",
      "Arthritis                                  120\n",
      "Bronchial Asthma                           120\n",
      "Cervical spondylosis                       120\n",
      "Chicken pox                                120\n",
      "Chronic cholestasis                        120\n",
      "Common Cold                                120\n",
      "Dengue                                     120\n",
      "Diabetes                                   120\n",
      "Dimorphic hemmorhoids(piles)               120\n",
      "Drug Reaction                              120\n",
      "Fungal infection                           120\n",
      "GERD                                       120\n",
      "Gastroenteritis                            120\n",
      "Heart attack                               120\n",
      "Hepatitis B                                120\n",
      "Hepatitis C                                120\n",
      "Hepatitis D                                120\n",
      "Hepatitis E                                120\n",
      "Hypertension                               120\n",
      "Hyperthyroidism                            120\n",
      "Hypoglycemia                               120\n",
      "Hypothyroidism                             120\n",
      "Impetigo                                   120\n",
      "Jaundice                                   120\n",
      "Malaria                                    120\n",
      "Migraine                                   120\n",
      "Osteoarthristis                            120\n",
      "Paralysis (brain hemorrhage)               120\n",
      "Peptic ulcer diseae                        120\n",
      "Pneumonia                                  120\n",
      "Psoriasis                                  120\n",
      "Tuberculosis                               120\n",
      "Typhoid                                    120\n",
      "Urinary tract infection                    120\n",
      "Varicose veins                             120\n",
      "hepatitis A                                120\n",
      "Name: prognosis, dtype: int64\n"
     ]
    }
   ],
   "source": [
    "for value in list(df_train.columns):\n",
    "    print(df_train.groupby(value)[value].aggregate('count'))"
   ]
  },
  {
   "cell_type": "code",
   "execution_count": 169,
   "id": "adf07ee0",
   "metadata": {},
   "outputs": [],
   "source": [
    "from sklearn.preprocessing import LabelEncoder\n",
    "labelencoder = LabelEncoder()\n",
    "df_train['prognosis'] = labelencoder.fit_transform(df_train['prognosis'])\n",
    "df_test['prognosis'] = labelencoder.fit_transform(df_test['prognosis'])"
   ]
  },
  {
   "cell_type": "code",
   "execution_count": 170,
   "id": "438b24c2",
   "metadata": {},
   "outputs": [
    {
     "name": "stderr",
     "output_type": "stream",
     "text": [
      "C:\\Users\\ELLA~1.GOR\\AppData\\Local\\Temp/ipykernel_23284/3282514203.py:2: RuntimeWarning: More than 20 figures have been opened. Figures created through the pyplot interface (`matplotlib.pyplot.figure`) are retained until explicitly closed and may consume too much memory. (To control this warning, see the rcParam `figure.max_open_warning`).\n",
      "  fig, ax = plt.subplots(figsize=(2,2))\n"
     ]
    },
    {
     "data": {
      "image/png": "[encoded data removed]",
      "text/plain": [
       "<Figure size 144x144 with 1 Axes>"
      ]
     },
     "metadata": {
      "needs_background": "light"
     },
     "output_type": "display_data"
    },
    {
     "data": {
      "image/png": "[encoded data removed]",
      "text/plain": [
       "<Figure size 144x144 with 1 Axes>"
      ]
     },
     "metadata": {
      "needs_background": "light"
     },
     "output_type": "display_data"
    },
    {
     "data": {
      "image/png": "[encoded data removed]",
      "text/plain": [
       "<Figure size 144x144 with 1 Axes>"
      ]
     },
     "metadata": {
      "needs_background": "light"
     },
     "output_type": "display_data"
    },
    {
     "data": {
      "image/png": "[encoded data removed]",
      "text/plain": [
       "<Figure size 144x144 with 1 Axes>"
      ]
     },
     "metadata": {
      "needs_background": "light"
     },
     "output_type": "display_data"
    },
    {
     "data": {
      "image/png": "[encoded data removed]",
      "text/plain": [
       "<Figure size 144x144 with 1 Axes>"
      ]
     },
     "metadata": {
      "needs_background": "light"
     },
     "output_type": "display_data"
    },
    {
     "data": {
      "image/png": "[encoded data removed]",
      "text/plain": [
       "<Figure size 144x144 with 1 Axes>"
      ]
     },
     "metadata": {
      "needs_background": "light"
     },
     "output_type": "display_data"
    },
    {
     "data": {
      "image/png": "[encoded data removed]",
      "text/plain": [
       "<Figure size 144x144 with 1 Axes>"
      ]
     },
     "metadata": {
      "needs_background": "light"
     },
     "output_type": "display_data"
    },
    {
     "data": {
      "image/png": "[encoded data removed]",
      "text/plain": [
       "<Figure size 144x144 with 1 Axes>"
      ]
     },
     "metadata": {
      "needs_background": "light"
     },
     "output_type": "display_data"
    },
    {
     "data": {
      "image/png": "[encoded data removed]",
      "text/plain": [
       "<Figure size 144x144 with 1 Axes>"
      ]
     },
     "metadata": {
      "needs_background": "light"
     },
     "output_type": "display_data"
    },
    {
     "data": {
      "image/png": "[encoded data removed]",
      "text/plain": [
       "<Figure size 144x144 with 1 Axes>"
      ]
     },
     "metadata": {
      "needs_background": "light"
     },
     "output_type": "display_data"
    },
    {
     "data": {
      "image/png": "[encoded data removed]",
      "text/plain": [
       "<Figure size 144x144 with 1 Axes>"
      ]
     },
     "metadata": {
      "needs_background": "light"
     },
     "output_type": "display_data"
    },
    {
     "data": {
      "image/png": "[encoded data removed]",
      "text/plain": [
       "<Figure size 144x144 with 1 Axes>"
      ]
     },
     "metadata": {
      "needs_background": "light"
     },
     "output_type": "display_data"
    },
    {
     "data": {
      "image/png": "[encoded data removed]",
      "text/plain": [
       "<Figure size 144x144 with 1 Axes>"
      ]
     },
     "metadata": {
      "needs_background": "light"
     },
     "output_type": "display_data"
    },
    {
     "data": {
      "image/png": "[encoded data removed]",
      "text/plain": [
       "<Figure size 144x144 with 1 Axes>"
      ]
     },
     "metadata": {
      "needs_background": "light"
     },
     "output_type": "display_data"
    },
    {
     "data": {
      "image/png": "[encoded data removed]",
      "text/plain": [
       "<Figure size 144x144 with 1 Axes>"
      ]
     },
     "metadata": {
      "needs_background": "light"
     },
     "output_type": "display_data"
    },
    {
     "data": {
      "image/png": "[encoded data removed]",
      "text/plain": [
       "<Figure size 144x144 with 1 Axes>"
      ]
     },
     "metadata": {
      "needs_background": "light"
     },
     "output_type": "display_data"
    },
    {
     "data": {
      "image/png": "[encoded data removed]",
      "text/plain": [
       "<Figure size 144x144 with 1 Axes>"
      ]
     },
     "metadata": {
      "needs_background": "light"
     },
     "output_type": "display_data"
    },
    {
     "data": {
      "image/png": "[encoded data removed]",
      "text/plain": [
       "<Figure size 144x144 with 1 Axes>"
      ]
     },
     "metadata": {
      "needs_background": "light"
     },
     "output_type": "display_data"
    },
    {
     "data": {
      "image/png": "[encoded data removed]",
      "text/plain": [
       "<Figure size 144x144 with 1 Axes>"
      ]
     },
     "metadata": {
      "needs_background": "light"
     },
     "output_type": "display_data"
    },
    {
     "data": {
      "image/png": "[encoded data removed]",
      "text/plain": [
       "<Figure size 144x144 with 1 Axes>"
      ]
     },
     "metadata": {
      "needs_background": "light"
     },
     "output_type": "display_data"
    },
    {
     "data": {
      "image/png": "[encoded data removed]",
      "text/plain": [
       "<Figure size 144x144 with 1 Axes>"
      ]
     },
     "metadata": {
      "needs_background": "light"
     },
     "output_type": "display_data"
    },
    {
     "data": {
      "image/png": "[encoded data removed]",
      "text/plain": [
       "<Figure size 144x144 with 1 Axes>"
      ]
     },
     "metadata": {
      "needs_background": "light"
     },
     "output_type": "display_data"
    },
    {
     "data": {
      "image/png": "[encoded data removed]",
      "text/plain": [
       "<Figure size 144x144 with 1 Axes>"
      ]
     },
     "metadata": {
      "needs_background": "light"
     },
     "output_type": "display_data"
    },
    {
     "data": {
      "image/png": "[encoded data removed]",
      "text/plain": [
       "<Figure size 144x144 with 1 Axes>"
      ]
     },
     "metadata": {
      "needs_background": "light"
     },
     "output_type": "display_data"
    },
    {
     "data": {
      "image/png": "[encoded data removed]",
      "text/plain": [
       "<Figure size 144x144 with 1 Axes>"
      ]
     },
     "metadata": {
      "needs_background": "light"
     },
     "output_type": "display_data"
    },
    {
     "data": {
      "image/png": "[encoded data removed]",
      "text/plain": [
       "<Figure size 144x144 with 1 Axes>"
      ]
     },
     "metadata": {
      "needs_background": "light"
     },
     "output_type": "display_data"
    },
    {
     "data": {
      "image/png": "[encoded data removed]",
      "text/plain": [
       "<Figure size 144x144 with 1 Axes>"
      ]
     },
     "metadata": {
      "needs_background": "light"
     },
     "output_type": "display_data"
    },
    {
     "data": {
      "image/png": "[encoded data removed]",
      "text/plain": [
       "<Figure size 144x144 with 1 Axes>"
      ]
     },
     "metadata": {
      "needs_background": "light"
     },
     "output_type": "display_data"
    },
    {
     "data": {
      "image/png": "[encoded data removed]",
      "text/plain": [
       "<Figure size 144x144 with 1 Axes>"
      ]
     },
     "metadata": {
      "needs_background": "light"
     },
     "output_type": "display_data"
    },
    {
     "data": {
      "image/png": "[encoded data removed]",
      "text/plain": [
       "<Figure size 144x144 with 1 Axes>"
      ]
     },
     "metadata": {
      "needs_background": "light"
     },
     "output_type": "display_data"
    },
    {
     "data": {
      "image/png": "[encoded data removed]",
      "text/plain": [
       "<Figure size 144x144 with 1 Axes>"
      ]
     },
     "metadata": {
      "needs_background": "light"
     },
     "output_type": "display_data"
    },
    {
     "data": {
      "image/png": "[encoded data removed]",
      "text/plain": [
       "<Figure size 144x144 with 1 Axes>"
      ]
     },
     "metadata": {
      "needs_background": "light"
     },
     "output_type": "display_data"
    },
    {
     "data": {
      "image/png": "[encoded data removed]",
      "text/plain": [
       "<Figure size 144x144 with 1 Axes>"
      ]
     },
     "metadata": {
      "needs_background": "light"
     },
     "output_type": "display_data"
    },
    {
     "data": {
      "image/png": "[encoded data removed]",
      "text/plain": [
       "<Figure size 144x144 with 1 Axes>"
      ]
     },
     "metadata": {
      "needs_background": "light"
     },
     "output_type": "display_data"
    },
    {
     "data": {
      "image/png": "[encoded data removed]",
      "text/plain": [
       "<Figure size 144x144 with 1 Axes>"
      ]
     },
     "metadata": {
      "needs_background": "light"
     },
     "output_type": "display_data"
    },
    {
     "data": {
      "image/png": "[encoded data removed]",
      "text/plain": [
       "<Figure size 144x144 with 1 Axes>"
      ]
     },
     "metadata": {
      "needs_background": "light"
     },
     "output_type": "display_data"
    },
    {
     "data": {
      "image/png": "[encoded data removed]",
      "text/plain": [
       "<Figure size 144x144 with 1 Axes>"
      ]
     },
     "metadata": {
      "needs_background": "light"
     },
     "output_type": "display_data"
    },
    {
     "data": {
      "image/png": "[encoded data removed]",
      "text/plain": [
       "<Figure size 144x144 with 1 Axes>"
      ]
     },
     "metadata": {
      "needs_background": "light"
     },
     "output_type": "display_data"
    },
    {
     "data": {
      "image/png": "[encoded data removed]",
      "text/plain": [
       "<Figure size 144x144 with 1 Axes>"
      ]
     },
     "metadata": {
      "needs_background": "light"
     },
     "output_type": "display_data"
    },
    {
     "data": {
      "image/png": "[encoded data removed]",
      "text/plain": [
       "<Figure size 144x144 with 1 Axes>"
      ]
     },
     "metadata": {
      "needs_background": "light"
     },
     "output_type": "display_data"
    },
    {
     "data": {
      "image/png": "[encoded data removed]",
      "text/plain": [
       "<Figure size 144x144 with 1 Axes>"
      ]
     },
     "metadata": {
      "needs_background": "light"
     },
     "output_type": "display_data"
    },
    {
     "data": {
      "image/png": "[encoded data removed]",
      "text/plain": [
       "<Figure size 144x144 with 1 Axes>"
      ]
     },
     "metadata": {
      "needs_background": "light"
     },
     "output_type": "display_data"
    },
    {
     "data": {
      "image/png": "[encoded data removed]",
      "text/plain": [
       "<Figure size 144x144 with 1 Axes>"
      ]
     },
     "metadata": {
      "needs_background": "light"
     },
     "output_type": "display_data"
    },
    {
     "data": {
      "image/png": "[encoded data removed]",
      "text/plain": [
       "<Figure size 144x144 with 1 Axes>"
      ]
     },
     "metadata": {
      "needs_background": "light"
     },
     "output_type": "display_data"
    },
    {
     "data": {
      "image/png": "[encoded data removed]",
      "text/plain": [
       "<Figure size 144x144 with 1 Axes>"
      ]
     },
     "metadata": {
      "needs_background": "light"
     },
     "output_type": "display_data"
    },
    {
     "data": {
      "image/png": "[encoded data removed]",
      "text/plain": [
       "<Figure size 144x144 with 1 Axes>"
      ]
     },
     "metadata": {
      "needs_background": "light"
     },
     "output_type": "display_data"
    },
    {
     "data": {
      "image/png": "[encoded data removed]",
      "text/plain": [
       "<Figure size 144x144 with 1 Axes>"
      ]
     },
     "metadata": {
      "needs_background": "light"
     },
     "output_type": "display_data"
    },
    {
     "data": {
      "image/png": "[encoded data removed]",
      "text/plain": [
       "<Figure size 144x144 with 1 Axes>"
      ]
     },
     "metadata": {
      "needs_background": "light"
     },
     "output_type": "display_data"
    },
    {
     "data": {
      "image/png": "[encoded data removed]",
      "text/plain": [
       "<Figure size 144x144 with 1 Axes>"
      ]
     },
     "metadata": {
      "needs_background": "light"
     },
     "output_type": "display_data"
    },
    {
     "data": {
      "image/png": "[encoded data removed]",
      "text/plain": [
       "<Figure size 144x144 with 1 Axes>"
      ]
     },
     "metadata": {
      "needs_background": "light"
     },
     "output_type": "display_data"
    },
    {
     "data": {
      "image/png": "[encoded data removed]",
      "text/plain": [
       "<Figure size 144x144 with 1 Axes>"
      ]
     },
     "metadata": {
      "needs_background": "light"
     },
     "output_type": "display_data"
    },
    {
     "data": {
      "image/png": "[encoded data removed]",
      "text/plain": [
       "<Figure size 144x144 with 1 Axes>"
      ]
     },
     "metadata": {
      "needs_background": "light"
     },
     "output_type": "display_data"
    },
    {
     "data": {
      "image/png": "[encoded data removed]",
      "text/plain": [
       "<Figure size 144x144 with 1 Axes>"
      ]
     },
     "metadata": {
      "needs_background": "light"
     },
     "output_type": "display_data"
    },
    {
     "data": {
      "image/png": "[encoded data removed]",
      "text/plain": [
       "<Figure size 144x144 with 1 Axes>"
      ]
     },
     "metadata": {
      "needs_background": "light"
     },
     "output_type": "display_data"
    },
    {
     "data": {
      "image/png": "[encoded data removed]",
      "text/plain": [
       "<Figure size 144x144 with 1 Axes>"
      ]
     },
     "metadata": {
      "needs_background": "light"
     },
     "output_type": "display_data"
    },
    {
     "data": {
      "image/png": "[encoded data removed]",
      "text/plain": [
       "<Figure size 144x144 with 1 Axes>"
      ]
     },
     "metadata": {
      "needs_background": "light"
     },
     "output_type": "display_data"
    },
    {
     "data": {
      "image/png": "[encoded data removed]",
      "text/plain": [
       "<Figure size 144x144 with 1 Axes>"
      ]
     },
     "metadata": {
      "needs_background": "light"
     },
     "output_type": "display_data"
    },
    {
     "data": {
      "image/png": "[encoded data removed]",
      "text/plain": [
       "<Figure size 144x144 with 1 Axes>"
      ]
     },
     "metadata": {
      "needs_background": "light"
     },
     "output_type": "display_data"
    },
    {
     "data": {
      "image/png": "[encoded data removed]",
      "text/plain": [
       "<Figure size 144x144 with 1 Axes>"
      ]
     },
     "metadata": {
      "needs_background": "light"
     },
     "output_type": "display_data"
    },
    {
     "data": {
      "image/png": "[encoded data removed]",
      "text/plain": [
       "<Figure size 144x144 with 1 Axes>"
      ]
     },
     "metadata": {
      "needs_background": "light"
     },
     "output_type": "display_data"
    },
    {
     "data": {
      "image/png": "[encoded data removed]",
      "text/plain": [
       "<Figure size 144x144 with 1 Axes>"
      ]
     },
     "metadata": {
      "needs_background": "light"
     },
     "output_type": "display_data"
    },
    {
     "data": {
      "image/png": "[encoded data removed]",
      "text/plain": [
       "<Figure size 144x144 with 1 Axes>"
      ]
     },
     "metadata": {
      "needs_background": "light"
     },
     "output_type": "display_data"
    },
    {
     "data": {
      "image/png": "[encoded data removed]",
      "text/plain": [
       "<Figure size 144x144 with 1 Axes>"
      ]
     },
     "metadata": {
      "needs_background": "light"
     },
     "output_type": "display_data"
    },
    {
     "data": {
      "image/png": "[encoded data removed]",
      "text/plain": [
       "<Figure size 144x144 with 1 Axes>"
      ]
     },
     "metadata": {
      "needs_background": "light"
     },
     "output_type": "display_data"
    },
    {
     "data": {
      "image/png": "[encoded data removed]",
      "text/plain": [
       "<Figure size 144x144 with 1 Axes>"
      ]
     },
     "metadata": {
      "needs_background": "light"
     },
     "output_type": "display_data"
    },
    {
     "data": {
      "image/png": "[encoded data removed]",
      "text/plain": [
       "<Figure size 144x144 with 1 Axes>"
      ]
     },
     "metadata": {
      "needs_background": "light"
     },
     "output_type": "display_data"
    },
    {
     "data": {
      "image/png": "[encoded data removed]",
      "text/plain": [
       "<Figure size 144x144 with 1 Axes>"
      ]
     },
     "metadata": {
      "needs_background": "light"
     },
     "output_type": "display_data"
    },
    {
     "data": {
      "image/png": "[encoded data removed]",
      "text/plain": [
       "<Figure size 144x144 with 1 Axes>"
      ]
     },
     "metadata": {
      "needs_background": "light"
     },
     "output_type": "display_data"
    },
    {
     "data": {
      "image/png": "[encoded data removed]",
      "text/plain": [
       "<Figure size 144x144 with 1 Axes>"
      ]
     },
     "metadata": {
      "needs_background": "light"
     },
     "output_type": "display_data"
    },
    {
     "data": {
      "image/png": "[encoded data removed]",
      "text/plain": [
       "<Figure size 144x144 with 1 Axes>"
      ]
     },
     "metadata": {
      "needs_background": "light"
     },
     "output_type": "display_data"
    },
    {
     "data": {
      "image/png": "[encoded data removed]",
      "text/plain": [
       "<Figure size 144x144 with 1 Axes>"
      ]
     },
     "metadata": {
      "needs_background": "light"
     },
     "output_type": "display_data"
    },
    {
     "data": {
      "image/png": "[encoded data removed]",
      "text/plain": [
       "<Figure size 144x144 with 1 Axes>"
      ]
     },
     "metadata": {
      "needs_background": "light"
     },
     "output_type": "display_data"
    },
    {
     "data": {
      "image/png": "[encoded data removed]",
      "text/plain": [
       "<Figure size 144x144 with 1 Axes>"
      ]
     },
     "metadata": {
      "needs_background": "light"
     },
     "output_type": "display_data"
    },
    {
     "data": {
      "image/png": "[encoded data removed]",
      "text/plain": [
       "<Figure size 144x144 with 1 Axes>"
      ]
     },
     "metadata": {
      "needs_background": "light"
     },
     "output_type": "display_data"
    },
    {
     "data": {
      "image/png": "[encoded data removed]",
      "text/plain": [
       "<Figure size 144x144 with 1 Axes>"
      ]
     },
     "metadata": {
      "needs_background": "light"
     },
     "output_type": "display_data"
    },
    {
     "data": {
      "image/png": "[encoded data removed]",
      "text/plain": [
       "<Figure size 144x144 with 1 Axes>"
      ]
     },
     "metadata": {
      "needs_background": "light"
     },
     "output_type": "display_data"
    },
    {
     "data": {
      "image/png": "[encoded data removed]",
      "text/plain": [
       "<Figure size 144x144 with 1 Axes>"
      ]
     },
     "metadata": {
      "needs_background": "light"
     },
     "output_type": "display_data"
    },
    {
     "data": {
      "image/png": "[encoded data removed]",
      "text/plain": [
       "<Figure size 144x144 with 1 Axes>"
      ]
     },
     "metadata": {
      "needs_background": "light"
     },
     "output_type": "display_data"
    },
    {
     "data": {
      "image/png": "[encoded data removed]",
      "text/plain": [
       "<Figure size 144x144 with 1 Axes>"
      ]
     },
     "metadata": {
      "needs_background": "light"
     },
     "output_type": "display_data"
    },
    {
     "data": {
      "image/png": "[encoded data removed]",
      "text/plain": [
       "<Figure size 144x144 with 1 Axes>"
      ]
     },
     "metadata": {
      "needs_background": "light"
     },
     "output_type": "display_data"
    },
    {
     "data": {
      "image/png": "[encoded data removed]",
      "text/plain": [
       "<Figure size 144x144 with 1 Axes>"
      ]
     },
     "metadata": {
      "needs_background": "light"
     },
     "output_type": "display_data"
    },
    {
     "data": {
      "image/png": "[encoded data removed]",
      "text/plain": [
       "<Figure size 144x144 with 1 Axes>"
      ]
     },
     "metadata": {
      "needs_background": "light"
     },
     "output_type": "display_data"
    },
    {
     "data": {
      "image/png": "[encoded data removed]",
      "text/plain": [
       "<Figure size 144x144 with 1 Axes>"
      ]
     },
     "metadata": {
      "needs_background": "light"
     },
     "output_type": "display_data"
    },
    {
     "data": {
      "image/png": "[encoded data removed]",
      "text/plain": [
       "<Figure size 144x144 with 1 Axes>"
      ]
     },
     "metadata": {
      "needs_background": "light"
     },
     "output_type": "display_data"
    },
    {
     "data": {
      "image/png": "[encoded data removed]",
      "text/plain": [
       "<Figure size 144x144 with 1 Axes>"
      ]
     },
     "metadata": {
      "needs_background": "light"
     },
     "output_type": "display_data"
    },
    {
     "data": {
      "image/png": "[encoded data removed]",
      "text/plain": [
       "<Figure size 144x144 with 1 Axes>"
      ]
     },
     "metadata": {
      "needs_background": "light"
     },
     "output_type": "display_data"
    },
    {
     "data": {
      "image/png": "[encoded data removed]",
      "text/plain": [
       "<Figure size 144x144 with 1 Axes>"
      ]
     },
     "metadata": {
      "needs_background": "light"
     },
     "output_type": "display_data"
    },
    {
     "data": {
      "image/png": "[encoded data removed]",
      "text/plain": [
       "<Figure size 144x144 with 1 Axes>"
      ]
     },
     "metadata": {
      "needs_background": "light"
     },
     "output_type": "display_data"
    },
    {
     "data": {
      "image/png": "[encoded data removed]",
      "text/plain": [
       "<Figure size 144x144 with 1 Axes>"
      ]
     },
     "metadata": {
      "needs_background": "light"
     },
     "output_type": "display_data"
    },
    {
     "data": {
      "image/png": "[encoded data removed]",
      "text/plain": [
       "<Figure size 144x144 with 1 Axes>"
      ]
     },
     "metadata": {
      "needs_background": "light"
     },
     "output_type": "display_data"
    },
    {
     "data": {
      "image/png": "[encoded data removed]",
      "text/plain": [
       "<Figure size 144x144 with 1 Axes>"
      ]
     },
     "metadata": {
      "needs_background": "light"
     },
     "output_type": "display_data"
    },
    {
     "data": {
      "image/png": "[encoded data removed]",
      "text/plain": [
       "<Figure size 144x144 with 1 Axes>"
      ]
     },
     "metadata": {
      "needs_background": "light"
     },
     "output_type": "display_data"
    },
    {
     "data": {
      "image/png": "[encoded data removed]",
      "text/plain": [
       "<Figure size 144x144 with 1 Axes>"
      ]
     },
     "metadata": {
      "needs_background": "light"
     },
     "output_type": "display_data"
    },
    {
     "data": {
      "image/png": "[encoded data removed]",
      "text/plain": [
       "<Figure size 144x144 with 1 Axes>"
      ]
     },
     "metadata": {
      "needs_background": "light"
     },
     "output_type": "display_data"
    },
    {
     "data": {
      "image/png": "[encoded data removed]",
      "text/plain": [
       "<Figure size 144x144 with 1 Axes>"
      ]
     },
     "metadata": {
      "needs_background": "light"
     },
     "output_type": "display_data"
    },
    {
     "data": {
      "image/png": "[encoded data removed]",
      "text/plain": [
       "<Figure size 144x144 with 1 Axes>"
      ]
     },
     "metadata": {
      "needs_background": "light"
     },
     "output_type": "display_data"
    },
    {
     "data": {
      "image/png": "[encoded data removed]",
      "text/plain": [
       "<Figure size 144x144 with 1 Axes>"
      ]
     },
     "metadata": {
      "needs_background": "light"
     },
     "output_type": "display_data"
    },
    {
     "data": {
      "image/png": "[encoded data removed]",
      "text/plain": [
       "<Figure size 144x144 with 1 Axes>"
      ]
     },
     "metadata": {
      "needs_background": "light"
     },
     "output_type": "display_data"
    },
    {
     "data": {
      "image/png": "[encoded data removed]",
      "text/plain": [
       "<Figure size 144x144 with 1 Axes>"
      ]
     },
     "metadata": {
      "needs_background": "light"
     },
     "output_type": "display_data"
    },
    {
     "data": {
      "image/png": "[encoded data removed]",
      "text/plain": [
       "<Figure size 144x144 with 1 Axes>"
      ]
     },
     "metadata": {
      "needs_background": "light"
     },
     "output_type": "display_data"
    },
    {
     "data": {
      "image/png": "[encoded data removed]",
      "text/plain": [
       "<Figure size 144x144 with 1 Axes>"
      ]
     },
     "metadata": {
      "needs_background": "light"
     },
     "output_type": "display_data"
    },
    {
     "data": {
      "image/png": "[encoded data removed]",
      "text/plain": [
       "<Figure size 144x144 with 1 Axes>"
      ]
     },
     "metadata": {
      "needs_background": "light"
     },
     "output_type": "display_data"
    },
    {
     "data": {
      "image/png": "[encoded data removed]",
      "text/plain": [
       "<Figure size 144x144 with 1 Axes>"
      ]
     },
     "metadata": {
      "needs_background": "light"
     },
     "output_type": "display_data"
    },
    {
     "data": {
      "image/png": "[encoded data removed]",
      "text/plain": [
       "<Figure size 144x144 with 1 Axes>"
      ]
     },
     "metadata": {
      "needs_background": "light"
     },
     "output_type": "display_data"
    },
    {
     "data": {
      "image/png": "[encoded data removed]",
      "text/plain": [
       "<Figure size 144x144 with 1 Axes>"
      ]
     },
     "metadata": {
      "needs_background": "light"
     },
     "output_type": "display_data"
    },
    {
     "data": {
      "image/png": "[encoded data removed]",
      "text/plain": [
       "<Figure size 144x144 with 1 Axes>"
      ]
     },
     "metadata": {
      "needs_background": "light"
     },
     "output_type": "display_data"
    },
    {
     "data": {
      "image/png": "[encoded data removed]",
      "text/plain": [
       "<Figure size 144x144 with 1 Axes>"
      ]
     },
     "metadata": {
      "needs_background": "light"
     },
     "output_type": "display_data"
    },
    {
     "data": {
      "image/png": "[encoded data removed]",
      "text/plain": [
       "<Figure size 144x144 with 1 Axes>"
      ]
     },
     "metadata": {
      "needs_background": "light"
     },
     "output_type": "display_data"
    },
    {
     "data": {
      "image/png": "[encoded data removed]",
      "text/plain": [
       "<Figure size 144x144 with 1 Axes>"
      ]
     },
     "metadata": {
      "needs_background": "light"
     },
     "output_type": "display_data"
    },
    {
     "data": {
      "image/png": "[encoded data removed]",
      "text/plain": [
       "<Figure size 144x144 with 1 Axes>"
      ]
     },
     "metadata": {
      "needs_background": "light"
     },
     "output_type": "display_data"
    },
    {
     "data": {
      "image/png": "[encoded data removed]",
      "text/plain": [
       "<Figure size 144x144 with 1 Axes>"
      ]
     },
     "metadata": {
      "needs_background": "light"
     },
     "output_type": "display_data"
    },
    {
     "data": {
      "image/png": "[encoded data removed]",
      "text/plain": [
       "<Figure size 144x144 with 1 Axes>"
      ]
     },
     "metadata": {
      "needs_background": "light"
     },
     "output_type": "display_data"
    },
    {
     "data": {
      "image/png": "[encoded data removed]",
      "text/plain": [
       "<Figure size 144x144 with 1 Axes>"
      ]
     },
     "metadata": {
      "needs_background": "light"
     },
     "output_type": "display_data"
    },
    {
     "data": {
      "image/png": "[encoded data removed]",
      "text/plain": [
       "<Figure size 144x144 with 1 Axes>"
      ]
     },
     "metadata": {
      "needs_background": "light"
     },
     "output_type": "display_data"
    },
    {
     "data": {
      "image/png": "[encoded data removed]",
      "text/plain": [
       "<Figure size 144x144 with 1 Axes>"
      ]
     },
     "metadata": {
      "needs_background": "light"
     },
     "output_type": "display_data"
    },
    {
     "data": {
      "image/png": "[encoded data removed]",
      "text/plain": [
       "<Figure size 144x144 with 1 Axes>"
      ]
     },
     "metadata": {
      "needs_background": "light"
     },
     "output_type": "display_data"
    },
    {
     "data": {
      "image/png": "[encoded data removed]",
      "text/plain": [
       "<Figure size 144x144 with 1 Axes>"
      ]
     },
     "metadata": {
      "needs_background": "light"
     },
     "output_type": "display_data"
    },
    {
     "data": {
      "image/png": "[encoded data removed]",
      "text/plain": [
       "<Figure size 144x144 with 1 Axes>"
      ]
     },
     "metadata": {
      "needs_background": "light"
     },
     "output_type": "display_data"
    },
    {
     "data": {
      "image/png": "[encoded data removed]",
      "text/plain": [
       "<Figure size 144x144 with 1 Axes>"
      ]
     },
     "metadata": {
      "needs_background": "light"
     },
     "output_type": "display_data"
    },
    {
     "data": {
      "image/png": "[encoded data removed]",
      "text/plain": [
       "<Figure size 144x144 with 1 Axes>"
      ]
     },
     "metadata": {
      "needs_background": "light"
     },
     "output_type": "display_data"
    },
    {
     "data": {
      "image/png": "[encoded data removed]",
      "text/plain": [
       "<Figure size 144x144 with 1 Axes>"
      ]
     },
     "metadata": {
      "needs_background": "light"
     },
     "output_type": "display_data"
    },
    {
     "data": {
      "image/png": "[encoded data removed]",
      "text/plain": [
       "<Figure size 144x144 with 1 Axes>"
      ]
     },
     "metadata": {
      "needs_background": "light"
     },
     "output_type": "display_data"
    },
    {
     "data": {
      "image/png": "[encoded data removed]",
      "text/plain": [
       "<Figure size 144x144 with 1 Axes>"
      ]
     },
     "metadata": {
      "needs_background": "light"
     },
     "output_type": "display_data"
    },
    {
     "data": {
      "image/png": "[encoded data removed]",
      "text/plain": [
       "<Figure size 144x144 with 1 Axes>"
      ]
     },
     "metadata": {
      "needs_background": "light"
     },
     "output_type": "display_data"
    },
    {
     "data": {
      "image/png": "[encoded data removed]",
      "text/plain": [
       "<Figure size 144x144 with 1 Axes>"
      ]
     },
     "metadata": {
      "needs_background": "light"
     },
     "output_type": "display_data"
    },
    {
     "data": {
      "image/png": "[encoded data removed]",
      "text/plain": [
       "<Figure size 144x144 with 1 Axes>"
      ]
     },
     "metadata": {
      "needs_background": "light"
     },
     "output_type": "display_data"
    },
    {
     "data": {
      "image/png": "[encoded data removed]",
      "text/plain": [
       "<Figure size 144x144 with 1 Axes>"
      ]
     },
     "metadata": {
      "needs_background": "light"
     },
     "output_type": "display_data"
    },
    {
     "data": {
      "image/png": "[encoded data removed]",
      "text/plain": [
       "<Figure size 144x144 with 1 Axes>"
      ]
     },
     "metadata": {
      "needs_background": "light"
     },
     "output_type": "display_data"
    },
    {
     "data": {
      "image/png": "[encoded data removed]",
      "text/plain": [
       "<Figure size 144x144 with 1 Axes>"
      ]
     },
     "metadata": {
      "needs_background": "light"
     },
     "output_type": "display_data"
    },
    {
     "data": {
      "image/png": "[encoded data removed]",
      "text/plain": [
       "<Figure size 144x144 with 1 Axes>"
      ]
     },
     "metadata": {
      "needs_background": "light"
     },
     "output_type": "display_data"
    },
    {
     "data": {
      "image/png": "[encoded data removed]",
      "text/plain": [
       "<Figure size 144x144 with 1 Axes>"
      ]
     },
     "metadata": {
      "needs_background": "light"
     },
     "output_type": "display_data"
    },
    {
     "data": {
      "image/png": "[encoded data removed]",
      "text/plain": [
       "<Figure size 144x144 with 1 Axes>"
      ]
     },
     "metadata": {
      "needs_background": "light"
     },
     "output_type": "display_data"
    },
    {
     "data": {
      "image/png": "[encoded data removed]",
      "text/plain": [
       "<Figure size 144x144 with 1 Axes>"
      ]
     },
     "metadata": {
      "needs_background": "light"
     },
     "output_type": "display_data"
    }
   ],
   "source": [
    "for i in list(df_train.columns):\n",
    "    fig, ax = plt.subplots(figsize=(2,2))\n",
    "    bar = df_train.groupby(i).size().plot(kind='bar', ax=ax)"
   ]
  },
  {
   "cell_type": "code",
   "execution_count": 171,
   "id": "d982ad9c",
   "metadata": {
    "scrolled": true
   },
   "outputs": [],
   "source": [
    "df_TR =df_train.copy() \n",
    "for i in list(df_train.columns):\n",
    "    if len(df_train[df_train[i]==1]) < (0.1 *len(df_train[df_train[i]==0])):\n",
    "        df_TR=df_TR.drop([i],axis=1)"
   ]
  },
  {
   "cell_type": "code",
   "execution_count": 172,
   "id": "c33ab223",
   "metadata": {},
   "outputs": [
    {
     "data": {
      "text/plain": [
       "(4920, 26)"
      ]
     },
     "execution_count": 172,
     "metadata": {},
     "output_type": "execute_result"
    }
   ],
   "source": [
    "df_TR.shape"
   ]
  },
  {
   "cell_type": "code",
   "execution_count": 173,
   "id": "a61a12df",
   "metadata": {},
   "outputs": [],
   "source": [
    "df_TE =df_test.copy() \n",
    "for i in list(df_test.columns):\n",
    "    if len(df_test[df_test[i]==1]) < (0.1 *len(df_test[df_test[i]==0])):\n",
    "        df_TE=df_TE.drop([i],axis=1)"
   ]
  },
  {
   "cell_type": "code",
   "execution_count": 174,
   "id": "fc569669",
   "metadata": {},
   "outputs": [
    {
     "data": {
      "text/plain": [
       "(42, 26)"
      ]
     },
     "execution_count": 174,
     "metadata": {},
     "output_type": "execute_result"
    }
   ],
   "source": [
    "df_TE.shape"
   ]
  },
  {
   "cell_type": "code",
   "execution_count": 175,
   "id": "dac7504c",
   "metadata": {},
   "outputs": [
    {
     "data": {
      "text/html": [
       "<div>\n",
       "<style scoped>\n",
       "    .dataframe tbody tr th:only-of-type {\n",
       "        vertical-align: middle;\n",
       "    }\n",
       "\n",
       "    .dataframe tbody tr th {\n",
       "        vertical-align: top;\n",
       "    }\n",
       "\n",
       "    .dataframe thead th {\n",
       "        text-align: right;\n",
       "    }\n",
       "</style>\n",
       "<table border=\"1\" class=\"dataframe\">\n",
       "  <thead>\n",
       "    <tr style=\"text-align: right;\">\n",
       "      <th></th>\n",
       "      <th>itching</th>\n",
       "      <th>skin_rash</th>\n",
       "      <th>chills</th>\n",
       "      <th>joint_pain</th>\n",
       "      <th>vomiting</th>\n",
       "      <th>fatigue</th>\n",
       "      <th>weight_loss</th>\n",
       "      <th>lethargy</th>\n",
       "      <th>cough</th>\n",
       "      <th>high_fever</th>\n",
       "      <th>...</th>\n",
       "      <th>loss_of_appetite</th>\n",
       "      <th>abdominal_pain</th>\n",
       "      <th>diarrhoea</th>\n",
       "      <th>yellowing_of_eyes</th>\n",
       "      <th>malaise</th>\n",
       "      <th>chest_pain</th>\n",
       "      <th>excessive_hunger</th>\n",
       "      <th>irritability</th>\n",
       "      <th>muscle_pain</th>\n",
       "      <th>prognosis</th>\n",
       "    </tr>\n",
       "  </thead>\n",
       "  <tbody>\n",
       "    <tr>\n",
       "      <th>0</th>\n",
       "      <td>1</td>\n",
       "      <td>1</td>\n",
       "      <td>0</td>\n",
       "      <td>0</td>\n",
       "      <td>0</td>\n",
       "      <td>0</td>\n",
       "      <td>0</td>\n",
       "      <td>0</td>\n",
       "      <td>0</td>\n",
       "      <td>0</td>\n",
       "      <td>...</td>\n",
       "      <td>0</td>\n",
       "      <td>0</td>\n",
       "      <td>0</td>\n",
       "      <td>0</td>\n",
       "      <td>0</td>\n",
       "      <td>0</td>\n",
       "      <td>0</td>\n",
       "      <td>0</td>\n",
       "      <td>0</td>\n",
       "      <td>15</td>\n",
       "    </tr>\n",
       "    <tr>\n",
       "      <th>1</th>\n",
       "      <td>0</td>\n",
       "      <td>1</td>\n",
       "      <td>0</td>\n",
       "      <td>0</td>\n",
       "      <td>0</td>\n",
       "      <td>0</td>\n",
       "      <td>0</td>\n",
       "      <td>0</td>\n",
       "      <td>0</td>\n",
       "      <td>0</td>\n",
       "      <td>...</td>\n",
       "      <td>0</td>\n",
       "      <td>0</td>\n",
       "      <td>0</td>\n",
       "      <td>0</td>\n",
       "      <td>0</td>\n",
       "      <td>0</td>\n",
       "      <td>0</td>\n",
       "      <td>0</td>\n",
       "      <td>0</td>\n",
       "      <td>15</td>\n",
       "    </tr>\n",
       "    <tr>\n",
       "      <th>2</th>\n",
       "      <td>1</td>\n",
       "      <td>0</td>\n",
       "      <td>0</td>\n",
       "      <td>0</td>\n",
       "      <td>0</td>\n",
       "      <td>0</td>\n",
       "      <td>0</td>\n",
       "      <td>0</td>\n",
       "      <td>0</td>\n",
       "      <td>0</td>\n",
       "      <td>...</td>\n",
       "      <td>0</td>\n",
       "      <td>0</td>\n",
       "      <td>0</td>\n",
       "      <td>0</td>\n",
       "      <td>0</td>\n",
       "      <td>0</td>\n",
       "      <td>0</td>\n",
       "      <td>0</td>\n",
       "      <td>0</td>\n",
       "      <td>15</td>\n",
       "    </tr>\n",
       "    <tr>\n",
       "      <th>3</th>\n",
       "      <td>1</td>\n",
       "      <td>1</td>\n",
       "      <td>0</td>\n",
       "      <td>0</td>\n",
       "      <td>0</td>\n",
       "      <td>0</td>\n",
       "      <td>0</td>\n",
       "      <td>0</td>\n",
       "      <td>0</td>\n",
       "      <td>0</td>\n",
       "      <td>...</td>\n",
       "      <td>0</td>\n",
       "      <td>0</td>\n",
       "      <td>0</td>\n",
       "      <td>0</td>\n",
       "      <td>0</td>\n",
       "      <td>0</td>\n",
       "      <td>0</td>\n",
       "      <td>0</td>\n",
       "      <td>0</td>\n",
       "      <td>15</td>\n",
       "    </tr>\n",
       "    <tr>\n",
       "      <th>4</th>\n",
       "      <td>1</td>\n",
       "      <td>1</td>\n",
       "      <td>0</td>\n",
       "      <td>0</td>\n",
       "      <td>0</td>\n",
       "      <td>0</td>\n",
       "      <td>0</td>\n",
       "      <td>0</td>\n",
       "      <td>0</td>\n",
       "      <td>0</td>\n",
       "      <td>...</td>\n",
       "      <td>0</td>\n",
       "      <td>0</td>\n",
       "      <td>0</td>\n",
       "      <td>0</td>\n",
       "      <td>0</td>\n",
       "      <td>0</td>\n",
       "      <td>0</td>\n",
       "      <td>0</td>\n",
       "      <td>0</td>\n",
       "      <td>15</td>\n",
       "    </tr>\n",
       "  </tbody>\n",
       "</table>\n",
       "<p>5 rows × 26 columns</p>\n",
       "</div>"
      ],
      "text/plain": [
       "   itching  skin_rash  chills  joint_pain  vomiting  fatigue  weight_loss  \\\n",
       "0        1          1       0           0         0        0            0   \n",
       "1        0          1       0           0         0        0            0   \n",
       "2        1          0       0           0         0        0            0   \n",
       "3        1          1       0           0         0        0            0   \n",
       "4        1          1       0           0         0        0            0   \n",
       "\n",
       "   lethargy  cough  high_fever  ...  loss_of_appetite  abdominal_pain  \\\n",
       "0         0      0           0  ...                 0               0   \n",
       "1         0      0           0  ...                 0               0   \n",
       "2         0      0           0  ...                 0               0   \n",
       "3         0      0           0  ...                 0               0   \n",
       "4         0      0           0  ...                 0               0   \n",
       "\n",
       "   diarrhoea  yellowing_of_eyes  malaise  chest_pain  excessive_hunger  \\\n",
       "0          0                  0        0           0                 0   \n",
       "1          0                  0        0           0                 0   \n",
       "2          0                  0        0           0                 0   \n",
       "3          0                  0        0           0                 0   \n",
       "4          0                  0        0           0                 0   \n",
       "\n",
       "   irritability  muscle_pain  prognosis  \n",
       "0             0            0         15  \n",
       "1             0            0         15  \n",
       "2             0            0         15  \n",
       "3             0            0         15  \n",
       "4             0            0         15  \n",
       "\n",
       "[5 rows x 26 columns]"
      ]
     },
     "execution_count": 175,
     "metadata": {},
     "output_type": "execute_result"
    }
   ],
   "source": [
    "df_TR.head()"
   ]
  },
  {
   "cell_type": "code",
   "execution_count": 176,
   "id": "7e310cb6",
   "metadata": {
    "scrolled": true
   },
   "outputs": [
    {
     "data": {
      "text/plain": [
       "(4920, 25)"
      ]
     },
     "execution_count": 176,
     "metadata": {},
     "output_type": "execute_result"
    }
   ],
   "source": [
    "X_train=df_TR.drop(['prognosis'], axis='columns')\n",
    "X.shape"
   ]
  },
  {
   "cell_type": "code",
   "execution_count": 177,
   "id": "8b19cec6",
   "metadata": {},
   "outputs": [
    {
     "data": {
      "text/plain": [
       "(4920,)"
      ]
     },
     "execution_count": 177,
     "metadata": {},
     "output_type": "execute_result"
    }
   ],
   "source": [
    "y_train=df_TR['prognosis']\n",
    "y.shape"
   ]
  },
  {
   "cell_type": "code",
   "execution_count": 178,
   "id": "844f0827",
   "metadata": {},
   "outputs": [
    {
     "data": {
      "text/plain": [
       "(4920, 25)"
      ]
     },
     "execution_count": 178,
     "metadata": {},
     "output_type": "execute_result"
    }
   ],
   "source": [
    "X_test=df_TE.drop(['prognosis'], axis='columns')\n",
    "X.shape"
   ]
  },
  {
   "cell_type": "code",
   "execution_count": 179,
   "id": "8a98b15e",
   "metadata": {},
   "outputs": [
    {
     "data": {
      "text/plain": [
       "(4920,)"
      ]
     },
     "execution_count": 179,
     "metadata": {},
     "output_type": "execute_result"
    }
   ],
   "source": [
    "y_test=df_TE['prognosis']\n",
    "y.shape"
   ]
  },
  {
   "cell_type": "code",
   "execution_count": 180,
   "id": "b38fc2c5",
   "metadata": {},
   "outputs": [],
   "source": [
    "from imblearn.combine import SMOTETomek\n",
    "from imblearn.under_sampling import TomekLinks\n",
    "from imblearn.pipeline import make_pipeline"
   ]
  },
  {
   "cell_type": "code",
   "execution_count": 181,
   "id": "52a62530",
   "metadata": {},
   "outputs": [],
   "source": [
    "from sklearn.linear_model import LogisticRegression\n",
    "LR = LogisticRegression(multi_class = 'multinomial')"
   ]
  },
  {
   "cell_type": "code",
   "execution_count": 182,
   "id": "39d8aa9c",
   "metadata": {},
   "outputs": [],
   "source": [
    "from sklearn.ensemble import RandomForestClassifier\n",
    "RFC = RandomForestClassifier(n_estimators= 40)"
   ]
  },
  {
   "cell_type": "code",
   "execution_count": 183,
   "id": "34162b92",
   "metadata": {},
   "outputs": [],
   "source": [
    "from sklearn.tree import DecisionTreeClassifier\n",
    "DTC = DecisionTreeClassifier()"
   ]
  },
  {
   "cell_type": "code",
   "execution_count": 184,
   "id": "2daef594",
   "metadata": {},
   "outputs": [],
   "source": [
    "from sklearn.svm import SVC\n",
    "svc=SVC(kernel=\"rbf\")"
   ]
  },
  {
   "cell_type": "code",
   "execution_count": 185,
   "id": "1feee63f",
   "metadata": {},
   "outputs": [],
   "source": [
    "from sklearn.neighbors import KNeighborsClassifier\n",
    "KNC=KNeighborsClassifier(n_neighbors=40)"
   ]
  },
  {
   "cell_type": "code",
   "execution_count": 186,
   "id": "f0208d3a",
   "metadata": {},
   "outputs": [],
   "source": [
    "Models = {'Decision tree Classifier' : DTC,\n",
    "          'KNeighbors Classifier' : KNC,\n",
    "          'Random forest Classifier' : RFC,\n",
    "          'Logistic Regression' : LR,\n",
    "          'Support Vector Classifier' : svc}\n",
    "scores_test= { }\n"
   ]
  },
  {
   "cell_type": "code",
   "execution_count": 187,
   "id": "c03cb063",
   "metadata": {},
   "outputs": [],
   "source": [
    "#for key, value in Models.items():    \n",
    " #   model = value\n",
    "  #  model.fit(X_train, y_train)\n",
    "   # scores_test[key] = model.score(X_test, y_test)"
   ]
  },
  {
   "cell_type": "code",
   "execution_count": 188,
   "id": "5ca44ef9",
   "metadata": {},
   "outputs": [],
   "source": [
    "for key, value in Models.items():    \n",
    "    model = make_pipeline(SMOTETomek(tomek=TomekLinks(sampling_strategy='majority')),value)\n",
    "    model.fit(X_train, y_train)\n",
    "    scores_test[key] = model.score(X_test, y_test)"
   ]
  },
  {
   "cell_type": "code",
   "execution_count": 189,
   "id": "5349ab34",
   "metadata": {},
   "outputs": [
    {
     "data": {
      "text/html": [
       "<div>\n",
       "<style scoped>\n",
       "    .dataframe tbody tr th:only-of-type {\n",
       "        vertical-align: middle;\n",
       "    }\n",
       "\n",
       "    .dataframe tbody tr th {\n",
       "        vertical-align: top;\n",
       "    }\n",
       "\n",
       "    .dataframe thead th {\n",
       "        text-align: right;\n",
       "    }\n",
       "</style>\n",
       "<table border=\"1\" class=\"dataframe\">\n",
       "  <thead>\n",
       "    <tr style=\"text-align: right;\">\n",
       "      <th></th>\n",
       "      <th>scores_test</th>\n",
       "    </tr>\n",
       "  </thead>\n",
       "  <tbody>\n",
       "    <tr>\n",
       "      <th>Decision tree Classifier</th>\n",
       "      <td>0.880952</td>\n",
       "    </tr>\n",
       "    <tr>\n",
       "      <th>KNeighbors Classifier</th>\n",
       "      <td>0.904762</td>\n",
       "    </tr>\n",
       "    <tr>\n",
       "      <th>Logistic Regression</th>\n",
       "      <td>0.880952</td>\n",
       "    </tr>\n",
       "    <tr>\n",
       "      <th>Random forest Classifier</th>\n",
       "      <td>0.880952</td>\n",
       "    </tr>\n",
       "    <tr>\n",
       "      <th>Support Vector Classifier</th>\n",
       "      <td>0.880952</td>\n",
       "    </tr>\n",
       "  </tbody>\n",
       "</table>\n",
       "</div>"
      ],
      "text/plain": [
       "                           scores_test\n",
       "Decision tree Classifier      0.880952\n",
       "KNeighbors Classifier         0.904762\n",
       "Logistic Regression           0.880952\n",
       "Random forest Classifier      0.880952\n",
       "Support Vector Classifier     0.880952"
      ]
     },
     "execution_count": 189,
     "metadata": {},
     "output_type": "execute_result"
    }
   ],
   "source": [
    "scores_frame = {'scores_test': scores_test}\n",
    "pd.DataFrame(data=scores_frame)"
   ]
  },
  {
   "cell_type": "code",
   "execution_count": 190,
   "id": "b738995a",
   "metadata": {
    "scrolled": true
   },
   "outputs": [
    {
     "data": {
      "text/plain": [
       "(4920, 41)"
      ]
     },
     "execution_count": 190,
     "metadata": {},
     "output_type": "execute_result"
    }
   ],
   "source": [
    "y_train_dum = pd.get_dummies(y_train)\n",
    "y_train_dum.shape"
   ]
  },
  {
   "cell_type": "code",
   "execution_count": 191,
   "id": "31e62742",
   "metadata": {},
   "outputs": [
    {
     "data": {
      "text/plain": [
       "(42, 41)"
      ]
     },
     "execution_count": 191,
     "metadata": {},
     "output_type": "execute_result"
    }
   ],
   "source": [
    "y_test_dum = pd.get_dummies(y_test)\n",
    "y_test_dum.shape"
   ]
  },
  {
   "cell_type": "code",
   "execution_count": 192,
   "id": "a9aa3e90",
   "metadata": {},
   "outputs": [],
   "source": [
    "import tensorflow as tf"
   ]
  },
  {
   "cell_type": "code",
   "execution_count": 193,
   "id": "02d958e7",
   "metadata": {},
   "outputs": [],
   "source": [
    "model=tf.keras.models.Sequential()"
   ]
  },
  {
   "cell_type": "code",
   "execution_count": 194,
   "id": "6e4ba75f",
   "metadata": {},
   "outputs": [],
   "source": [
    "model.add(tf.keras.layers.Dense(50, activation = \"relu\", input_dim = X_train.shape[1]))\n",
    "model.add(tf.keras.layers.Dense(30, activation = \"relu\"))\n",
    "model.add(tf.keras.layers.Dense(y_train_dum.shape[1], activation = \"softmax\"))"
   ]
  },
  {
   "cell_type": "code",
   "execution_count": 195,
   "id": "e1d24df9",
   "metadata": {},
   "outputs": [],
   "source": [
    "model.compile(optimizer = 'adam', loss = 'categorical_crossentropy', metrics = ['accuracy'])"
   ]
  },
  {
   "cell_type": "code",
   "execution_count": 196,
   "id": "013f0b05",
   "metadata": {},
   "outputs": [
    {
     "name": "stdout",
     "output_type": "stream",
     "text": [
      "Epoch 1/100\n",
      "154/154 [==============================] - 1s 2ms/step - loss: 3.1018 - accuracy: 0.2815\n",
      "Epoch 2/100\n",
      "154/154 [==============================] - 0s 3ms/step - loss: 1.2879 - accuracy: 0.7754\n",
      "Epoch 3/100\n",
      "154/154 [==============================] - 0s 3ms/step - loss: 0.4914 - accuracy: 0.8748\n",
      "Epoch 4/100\n",
      "154/154 [==============================] - 0s 2ms/step - loss: 0.3454 - accuracy: 0.8770\n",
      "Epoch 5/100\n",
      "154/154 [==============================] - 0s 2ms/step - loss: 0.3092 - accuracy: 0.8724\n",
      "Epoch 6/100\n",
      "154/154 [==============================] - 0s 2ms/step - loss: 0.2927 - accuracy: 0.8764\n",
      "Epoch 7/100\n",
      "154/154 [==============================] - 0s 2ms/step - loss: 0.2862 - accuracy: 0.8768\n",
      "Epoch 8/100\n",
      "154/154 [==============================] - 0s 1ms/step - loss: 0.2816 - accuracy: 0.8770\n",
      "Epoch 9/100\n",
      "154/154 [==============================] - 0s 1ms/step - loss: 0.2794 - accuracy: 0.8754\n",
      "Epoch 10/100\n",
      "154/154 [==============================] - 0s 1ms/step - loss: 0.2765 - accuracy: 0.8772\n",
      "Epoch 11/100\n",
      "154/154 [==============================] - 0s 2ms/step - loss: 0.2755 - accuracy: 0.8748\n",
      "Epoch 12/100\n",
      "154/154 [==============================] - 0s 1ms/step - loss: 0.2736 - accuracy: 0.8801\n",
      "Epoch 13/100\n",
      "154/154 [==============================] - 0s 1ms/step - loss: 0.2736 - accuracy: 0.8776\n",
      "Epoch 14/100\n",
      "154/154 [==============================] - 0s 1ms/step - loss: 0.2731 - accuracy: 0.8768\n",
      "Epoch 15/100\n",
      "154/154 [==============================] - 0s 1ms/step - loss: 0.2714 - accuracy: 0.8778\n",
      "Epoch 16/100\n",
      "154/154 [==============================] - 0s 1ms/step - loss: 0.2723 - accuracy: 0.8748\n",
      "Epoch 17/100\n",
      "154/154 [==============================] - 0s 1ms/step - loss: 0.2714 - accuracy: 0.8726\n",
      "Epoch 18/100\n",
      "154/154 [==============================] - 0s 1ms/step - loss: 0.2717 - accuracy: 0.8736\n",
      "Epoch 19/100\n",
      "154/154 [==============================] - 0s 1ms/step - loss: 0.2713 - accuracy: 0.8758\n",
      "Epoch 20/100\n",
      "154/154 [==============================] - 0s 1ms/step - loss: 0.2700 - accuracy: 0.8780\n",
      "Epoch 21/100\n",
      "154/154 [==============================] - 0s 1ms/step - loss: 0.2702 - accuracy: 0.8754\n",
      "Epoch 22/100\n",
      "154/154 [==============================] - 0s 1ms/step - loss: 0.2697 - accuracy: 0.8740\n",
      "Epoch 23/100\n",
      "154/154 [==============================] - 0s 1ms/step - loss: 0.2686 - accuracy: 0.8750\n",
      "Epoch 24/100\n",
      "154/154 [==============================] - 0s 1ms/step - loss: 0.2691 - accuracy: 0.8744\n",
      "Epoch 25/100\n",
      "154/154 [==============================] - 0s 1ms/step - loss: 0.2689 - accuracy: 0.8736\n",
      "Epoch 26/100\n",
      "154/154 [==============================] - 0s 1ms/step - loss: 0.2686 - accuracy: 0.8772\n",
      "Epoch 27/100\n",
      "154/154 [==============================] - 0s 1ms/step - loss: 0.2701 - accuracy: 0.8744\n",
      "Epoch 28/100\n",
      "154/154 [==============================] - 0s 1ms/step - loss: 0.2686 - accuracy: 0.8762\n",
      "Epoch 29/100\n",
      "154/154 [==============================] - 0s 1ms/step - loss: 0.2691 - accuracy: 0.8780\n",
      "Epoch 30/100\n",
      "154/154 [==============================] - 0s 1ms/step - loss: 0.2677 - accuracy: 0.8754\n",
      "Epoch 31/100\n",
      "154/154 [==============================] - 0s 1ms/step - loss: 0.2696 - accuracy: 0.8726\n",
      "Epoch 32/100\n",
      "154/154 [==============================] - 0s 1ms/step - loss: 0.2686 - accuracy: 0.8787\n",
      "Epoch 33/100\n",
      "154/154 [==============================] - 0s 1ms/step - loss: 0.2677 - accuracy: 0.8726\n",
      "Epoch 34/100\n",
      "154/154 [==============================] - 0s 1ms/step - loss: 0.2673 - accuracy: 0.8801\n",
      "Epoch 35/100\n",
      "154/154 [==============================] - 0s 1ms/step - loss: 0.2707 - accuracy: 0.8736\n",
      "Epoch 36/100\n",
      "154/154 [==============================] - 0s 1ms/step - loss: 0.2681 - accuracy: 0.8772\n",
      "Epoch 37/100\n",
      "154/154 [==============================] - 0s 1ms/step - loss: 0.2681 - accuracy: 0.8768\n",
      "Epoch 38/100\n",
      "154/154 [==============================] - 0s 1ms/step - loss: 0.2683 - accuracy: 0.8748\n",
      "Epoch 39/100\n",
      "154/154 [==============================] - 0s 1ms/step - loss: 0.2686 - accuracy: 0.8772\n",
      "Epoch 40/100\n",
      "154/154 [==============================] - 0s 2ms/step - loss: 0.2676 - accuracy: 0.8750\n",
      "Epoch 41/100\n",
      "154/154 [==============================] - 0s 2ms/step - loss: 0.2674 - accuracy: 0.8752\n",
      "Epoch 42/100\n",
      "154/154 [==============================] - 0s 2ms/step - loss: 0.2682 - accuracy: 0.8760\n",
      "Epoch 43/100\n",
      "154/154 [==============================] - 0s 1ms/step - loss: 0.2676 - accuracy: 0.8726\n",
      "Epoch 44/100\n",
      "154/154 [==============================] - 0s 1ms/step - loss: 0.2672 - accuracy: 0.8736\n",
      "Epoch 45/100\n",
      "154/154 [==============================] - 0s 1ms/step - loss: 0.2669 - accuracy: 0.8738\n",
      "Epoch 46/100\n",
      "154/154 [==============================] - 0s 1ms/step - loss: 0.2671 - accuracy: 0.8758\n",
      "Epoch 47/100\n",
      "154/154 [==============================] - 0s 2ms/step - loss: 0.2669 - accuracy: 0.8770\n",
      "Epoch 48/100\n",
      "154/154 [==============================] - 0s 1ms/step - loss: 0.2665 - accuracy: 0.8772\n",
      "Epoch 49/100\n",
      "154/154 [==============================] - 0s 1ms/step - loss: 0.2659 - accuracy: 0.8740\n",
      "Epoch 50/100\n",
      "154/154 [==============================] - 0s 1ms/step - loss: 0.2661 - accuracy: 0.8730\n",
      "Epoch 51/100\n",
      "154/154 [==============================] - 0s 1ms/step - loss: 0.2670 - accuracy: 0.8752\n",
      "Epoch 52/100\n",
      "154/154 [==============================] - 0s 2ms/step - loss: 0.2669 - accuracy: 0.8738\n",
      "Epoch 53/100\n",
      "154/154 [==============================] - 0s 2ms/step - loss: 0.2667 - accuracy: 0.8762\n",
      "Epoch 54/100\n",
      "154/154 [==============================] - 0s 2ms/step - loss: 0.2677 - accuracy: 0.8742\n",
      "Epoch 55/100\n",
      "154/154 [==============================] - 0s 1ms/step - loss: 0.2667 - accuracy: 0.8758\n",
      "Epoch 56/100\n",
      "154/154 [==============================] - 0s 2ms/step - loss: 0.2669 - accuracy: 0.8689\n",
      "Epoch 57/100\n",
      "154/154 [==============================] - 0s 2ms/step - loss: 0.2662 - accuracy: 0.8764\n",
      "Epoch 58/100\n",
      "154/154 [==============================] - 0s 1ms/step - loss: 0.2669 - accuracy: 0.8746\n",
      "Epoch 59/100\n",
      "154/154 [==============================] - 0s 1ms/step - loss: 0.2662 - accuracy: 0.8758\n",
      "Epoch 60/100\n",
      "154/154 [==============================] - 0s 1ms/step - loss: 0.2673 - accuracy: 0.8744\n",
      "Epoch 61/100\n",
      "154/154 [==============================] - 0s 1ms/step - loss: 0.2663 - accuracy: 0.8732\n",
      "Epoch 62/100\n",
      "154/154 [==============================] - 0s 1ms/step - loss: 0.2663 - accuracy: 0.8768\n",
      "Epoch 63/100\n",
      "154/154 [==============================] - 0s 1ms/step - loss: 0.2668 - accuracy: 0.8742\n",
      "Epoch 64/100\n",
      "154/154 [==============================] - 0s 2ms/step - loss: 0.2657 - accuracy: 0.8742\n",
      "Epoch 65/100\n",
      "154/154 [==============================] - 0s 2ms/step - loss: 0.2660 - accuracy: 0.8768\n",
      "Epoch 66/100\n",
      "154/154 [==============================] - 0s 2ms/step - loss: 0.2657 - accuracy: 0.8740\n",
      "Epoch 67/100\n",
      "154/154 [==============================] - 0s 2ms/step - loss: 0.2658 - accuracy: 0.8732\n",
      "Epoch 68/100\n",
      "154/154 [==============================] - 0s 1ms/step - loss: 0.2657 - accuracy: 0.8783\n",
      "Epoch 69/100\n",
      "154/154 [==============================] - 0s 1ms/step - loss: 0.2650 - accuracy: 0.8746\n",
      "Epoch 70/100\n",
      "154/154 [==============================] - 0s 2ms/step - loss: 0.2662 - accuracy: 0.8744\n",
      "Epoch 71/100\n",
      "154/154 [==============================] - 0s 3ms/step - loss: 0.2649 - accuracy: 0.8738\n",
      "Epoch 72/100\n",
      "154/154 [==============================] - 0s 2ms/step - loss: 0.2661 - accuracy: 0.8774\n",
      "Epoch 73/100\n",
      "154/154 [==============================] - 0s 2ms/step - loss: 0.2659 - accuracy: 0.8770\n",
      "Epoch 74/100\n",
      "154/154 [==============================] - 0s 2ms/step - loss: 0.2659 - accuracy: 0.8768\n",
      "Epoch 75/100\n",
      "154/154 [==============================] - 0s 1ms/step - loss: 0.2651 - accuracy: 0.8770\n",
      "Epoch 76/100\n",
      "154/154 [==============================] - 0s 1ms/step - loss: 0.2653 - accuracy: 0.8783\n",
      "Epoch 77/100\n",
      "154/154 [==============================] - 0s 1ms/step - loss: 0.2660 - accuracy: 0.8752\n",
      "Epoch 78/100\n",
      "154/154 [==============================] - 0s 1ms/step - loss: 0.2660 - accuracy: 0.8740\n",
      "Epoch 79/100\n",
      "154/154 [==============================] - 0s 1ms/step - loss: 0.2660 - accuracy: 0.8728\n",
      "Epoch 80/100\n",
      "154/154 [==============================] - 0s 1ms/step - loss: 0.2651 - accuracy: 0.8764\n",
      "Epoch 81/100\n"
     ]
    },
    {
     "name": "stdout",
     "output_type": "stream",
     "text": [
      "154/154 [==============================] - 0s 1ms/step - loss: 0.2653 - accuracy: 0.8736\n",
      "Epoch 82/100\n",
      "154/154 [==============================] - 0s 1ms/step - loss: 0.2655 - accuracy: 0.8780\n",
      "Epoch 83/100\n",
      "154/154 [==============================] - 0s 1ms/step - loss: 0.2651 - accuracy: 0.8748\n",
      "Epoch 84/100\n",
      "154/154 [==============================] - 0s 1ms/step - loss: 0.2655 - accuracy: 0.8748\n",
      "Epoch 85/100\n",
      "154/154 [==============================] - 0s 1ms/step - loss: 0.2654 - accuracy: 0.8752\n",
      "Epoch 86/100\n",
      "154/154 [==============================] - 0s 1ms/step - loss: 0.2648 - accuracy: 0.8752\n",
      "Epoch 87/100\n",
      "154/154 [==============================] - 0s 1ms/step - loss: 0.2654 - accuracy: 0.8803\n",
      "Epoch 88/100\n",
      "154/154 [==============================] - 0s 1ms/step - loss: 0.2643 - accuracy: 0.8742\n",
      "Epoch 89/100\n",
      "154/154 [==============================] - 0s 1ms/step - loss: 0.2648 - accuracy: 0.8764\n",
      "Epoch 90/100\n",
      "154/154 [==============================] - 0s 1ms/step - loss: 0.2641 - accuracy: 0.8764\n",
      "Epoch 91/100\n",
      "154/154 [==============================] - 0s 1ms/step - loss: 0.2657 - accuracy: 0.8756\n",
      "Epoch 92/100\n",
      "154/154 [==============================] - 0s 1ms/step - loss: 0.2637 - accuracy: 0.8807\n",
      "Epoch 93/100\n",
      "154/154 [==============================] - 0s 1ms/step - loss: 0.2649 - accuracy: 0.8778\n",
      "Epoch 94/100\n",
      "154/154 [==============================] - 0s 1ms/step - loss: 0.2651 - accuracy: 0.8758\n",
      "Epoch 95/100\n",
      "154/154 [==============================] - 0s 1ms/step - loss: 0.2646 - accuracy: 0.8787\n",
      "Epoch 96/100\n",
      "154/154 [==============================] - 0s 1ms/step - loss: 0.2649 - accuracy: 0.8780\n",
      "Epoch 97/100\n",
      "154/154 [==============================] - 0s 1ms/step - loss: 0.2643 - accuracy: 0.8764\n",
      "Epoch 98/100\n",
      "154/154 [==============================] - 0s 1ms/step - loss: 0.2638 - accuracy: 0.8772\n",
      "Epoch 99/100\n",
      "154/154 [==============================] - 0s 1ms/step - loss: 0.2649 - accuracy: 0.8764\n",
      "Epoch 100/100\n",
      "154/154 [==============================] - 0s 1ms/step - loss: 0.2645 - accuracy: 0.8732\n"
     ]
    },
    {
     "data": {
      "text/plain": [
       "<keras.callbacks.History at 0x25112537250>"
      ]
     },
     "execution_count": 196,
     "metadata": {},
     "output_type": "execute_result"
    }
   ],
   "source": [
    "model.fit(X_train,y_train_dum,epochs=100)"
   ]
  },
  {
   "cell_type": "code",
   "execution_count": 197,
   "id": "ae511ff6",
   "metadata": {},
   "outputs": [
    {
     "name": "stdout",
     "output_type": "stream",
     "text": [
      "2/2 [==============================] - 0s 4ms/step - loss: 0.2008 - accuracy: 0.8810\n"
     ]
    },
    {
     "data": {
      "text/plain": [
       "[0.20084503293037415, 0.8809523582458496]"
      ]
     },
     "execution_count": 197,
     "metadata": {},
     "output_type": "execute_result"
    }
   ],
   "source": [
    "model.evaluate(X_test,y_test_dum)"
   ]
  },
  {
   "cell_type": "code",
   "execution_count": null,
   "id": "61484b11",
   "metadata": {},
   "outputs": [],
   "source": []
  },
  {
   "cell_type": "code",
   "execution_count": null,
   "id": "ba6a3ed7",
   "metadata": {},
   "outputs": [],
   "source": []
  }
 ],
 "metadata": {
  "kernelspec": {
   "display_name": "Python 3 (ipykernel)",
   "language": "python",
   "name": "python3"
  },
  "language_info": {
   "codemirror_mode": {
    "name": "ipython",
    "version": 3
   },
   "file_extension": ".py",
   "mimetype": "text/x-python",
   "name": "python",
   "nbconvert_exporter": "python",
   "pygments_lexer": "ipython3",
   "version": "3.9.7"
  }
 },
 "nbformat": 4,
 "nbformat_minor": 5
}
